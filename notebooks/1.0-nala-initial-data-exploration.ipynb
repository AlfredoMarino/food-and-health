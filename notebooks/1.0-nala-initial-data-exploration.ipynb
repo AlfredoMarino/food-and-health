{
 "cells": [
  {
   "cell_type": "code",
   "execution_count": 90,
   "outputs": [],
   "source": [
    "import pandas as pd\n",
    "import os\n",
    "from re import sub\n",
    "import datetime\n"
   ],
   "metadata": {
    "collapsed": false,
    "pycharm": {
     "name": "#%%\n"
    }
   }
  },
  {
   "cell_type": "markdown",
   "source": [
    "### Configurations"
   ],
   "metadata": {
    "collapsed": false
   }
  },
  {
   "cell_type": "code",
   "execution_count": 91,
   "outputs": [],
   "source": [
    "__RAW_FOLDER_PATH__ = '../data/raw/'\n",
    "__INTERIM_FOLDER_PATH__ = '../data/interim/'\n",
    "__ENABLED_DATASET__ = ['Catalunya.xlsx']"
   ],
   "metadata": {
    "collapsed": false,
    "pycharm": {
     "name": "#%%\n"
    }
   }
  },
  {
   "cell_type": "code",
   "execution_count": 92,
   "outputs": [],
   "source": [
    "class Dataset:\n",
    "\n",
    "    def __init__(self, file_name: str, dataframe: pd.DataFrame) -> None:\n",
    "        self.file_name = file_name\n",
    "        self.dataframe = dataframe\n",
    "\n",
    "\n",
    "class Utils:\n",
    "\n",
    "    @staticmethod\n",
    "    def rename_column(df: pd.DataFrame, old_column_name: str, new_column_name: str) -> pd.DataFrame:\n",
    "        return df.rename({old_column_name: new_column_name}, axis=1)\n",
    "\n",
    "    @staticmethod\n",
    "    def to_snake_case(s: str) -> str:\n",
    "        return '_'.join(\n",
    "            sub(\n",
    "                '([A-Z][a-z]+)',\n",
    "                r' \\1',\n",
    "                sub('([A-Z]+)', r' \\1', s.replace('-', ' '))\n",
    "            ).split()\n",
    "        ).lower()\n",
    "\n",
    "\n",
    "class Cleaner:\n",
    "\n",
    "    __FIRST_COLUMN_LABEL__ = \"PRODUCTO\"\n",
    "    __TOTALIZER_DISCRIMINATOR__ = \"SEGMENTO BIO\"\n",
    "\n",
    "    def __init__(self, data: pd.DataFrame) -> None:\n",
    "        self.data = data\n",
    "\n",
    "    def get_refined_data(self) -> pd.DataFrame:\n",
    "        df = self._set_producto_column(self.data.copy())\n",
    "        df = self._exclude_totes(df)\n",
    "        return df\n",
    "\n",
    "    def get_totalizer(self) -> pd.DataFrame:\n",
    "        df = self._set_producto_column(self.data.copy())\n",
    "        df = self._exclude_non_totes(df)\n",
    "        return df\n",
    "\n",
    "    def _set_producto_column(self, df: pd.DataFrame) -> pd.DataFrame:\n",
    "        print(f'Renaming column from \"{df.columns[0]}\" to \"{self.__FIRST_COLUMN_LABEL__}\"')\n",
    "        return Utils.rename_column(df, df.columns[0], self.__FIRST_COLUMN_LABEL__)\n",
    "\n",
    "    def _exclude_totes(self, df: pd.DataFrame) -> pd.DataFrame:\n",
    "        print(f'Excluding totalizer rows')\n",
    "        refined_df = df[df[self.__TOTALIZER_DISCRIMINATOR__].notnull()]\n",
    "        return refined_df.reset_index(drop=True)\n",
    "\n",
    "    def _exclude_non_totes(self, df: pd.DataFrame) -> pd.DataFrame:\n",
    "        print(f'Excluding non totalizer rows')\n",
    "        refined_df = df[df[self.__TOTALIZER_DISCRIMINATOR__].isnull()]\n",
    "        return refined_df.reset_index(drop=True)"
   ],
   "metadata": {
    "collapsed": false,
    "pycharm": {
     "name": "#%%\n"
    }
   }
  },
  {
   "cell_type": "code",
   "execution_count": 93,
   "outputs": [],
   "source": [
    "dataset_file_names = os.listdir(__RAW_FOLDER_PATH__)\n",
    "# dataset_file_names"
   ],
   "metadata": {
    "collapsed": false,
    "pycharm": {
     "name": "#%%\n"
    }
   }
  },
  {
   "cell_type": "code",
   "execution_count": 94,
   "outputs": [],
   "source": [
    "def prepare_dataset_names(s: str) -> str:\n",
    "    if s == 'C_Valenciana.xlsx':\n",
    "        s = 'ComunidadValenciana.xlsx'\n",
    "    return Utils.to_snake_case(s.removesuffix('.xlsx'))\n",
    "\n",
    "\n",
    "def csv_to_dataset_dict(dataset_file_names: list[str]):\n",
    "    datasets = {}\n",
    "\n",
    "    for dataset_file_name in dataset_file_names:\n",
    "\n",
    "        if __ENABLED_DATASET__ and dataset_file_name not in __ENABLED_DATASET__:\n",
    "            continue\n",
    "\n",
    "        name = prepare_dataset_names(dataset_file_name)\n",
    "        df = pd.read_excel(f\"{__RAW_FOLDER_PATH__}/{dataset_file_name}\")\n",
    "\n",
    "        datasets[name] = Dataset(dataset_file_name, df)\n",
    "\n",
    "    return datasets\n"
   ],
   "metadata": {
    "collapsed": false,
    "pycharm": {
     "name": "#%%\n"
    }
   }
  },
  {
   "cell_type": "code",
   "execution_count": 95,
   "outputs": [],
   "source": [
    "datasets = csv_to_dataset_dict(dataset_file_names)"
   ],
   "metadata": {
    "collapsed": false,
    "pycharm": {
     "name": "#%%\n"
    }
   }
  },
  {
   "cell_type": "code",
   "execution_count": 96,
   "outputs": [
    {
     "data": {
      "text/plain": "                  Unnamed: 0           SECTOR    SECCION  \\\n0                  TOTAL PGC              NaN        NaN   \n1            ALIM. Y BEBIDAS  ALIM. Y BEBIDAS        NaN   \n2                  ALIM.SECA  ALIM. Y BEBIDAS  ALIM.SECA   \n3                     ACEITE  ALIM. Y BEBIDAS  ALIM.SECA   \n4                  GIRASOL..  ALIM. Y BEBIDAS  ALIM.SECA   \n...                      ...              ...        ...   \n1198        RQN.AL CORTE BIO     PROD.FRESCOS     QUESOS   \n1199     RQN.AL CORTE NO BIO     PROD.FRESCOS     QUESOS   \n1200         RQN.EMPAQUETADO     PROD.FRESCOS     QUESOS   \n1201     RQN.EMPAQUETADO BIO     PROD.FRESCOS     QUESOS   \n1202  RQN.EMPAQUETADO NO BIO     PROD.FRESCOS     QUESOS   \n\n                   CATEGORIA          FAMILIA SEGMENTO BIO  SEMANA 40-16  \\\n0                        NaN              NaN          NaN      70327.94   \n1                        NaN              NaN          NaN      39777.17   \n2                        NaN              NaN          NaN      19823.16   \n3                     ACEITE              NaN          NaN       2302.93   \n4                     ACEITE        GIRASOL..          NaN        420.76   \n...                      ...              ...          ...           ...   \n1198  RESTO QUESOS NATURALES     RQN.AL CORTE          BIO          0.00   \n1199  RESTO QUESOS NATURALES     RQN.AL CORTE       NO BIO         41.36   \n1200  RESTO QUESOS NATURALES  RQN.EMPAQUETADO          NaN        152.73   \n1201  RESTO QUESOS NATURALES  RQN.EMPAQUETADO          BIO          2.02   \n1202  RESTO QUESOS NATURALES  RQN.EMPAQUETADO       NO BIO        150.71   \n\n      SEMANA 41-16  SEMANA 42-16  SEMANA 43-16  ...  SEMANA 34-19  \\\n0         68023.56      68846.55      72378.68  ...     177706.29   \n1         38553.12      39145.82      41595.26  ...      98944.73   \n2         19571.58      20018.28      21250.49  ...      43342.82   \n3          2191.72       2228.66       2289.00  ...       3312.98   \n4           421.54        407.75        433.43  ...        487.37   \n...            ...           ...           ...  ...           ...   \n1198          0.00          0.00          0.00  ...          2.63   \n1199         38.28         39.70         29.62  ...        116.32   \n1200        150.41        150.97        153.27  ...        421.34   \n1201          2.10          1.62          1.99  ...          7.66   \n1202        148.31        149.34        151.28  ...        413.68   \n\n      SEMANA 35-19  SEMANA 36-19  SEMANA 37-19  SEMANA 38-19  SEMANA 39-19  \\\n0        183376.16     177862.27     169220.32     167775.90     171309.65   \n1        100481.38      96819.19      92478.18      92111.26      93833.96   \n2         44952.52      44669.37      43894.22      43480.27      44579.68   \n3          3651.12       3670.37       3336.79       3333.10       3523.74   \n4           548.21        559.53        523.39        503.79        537.40   \n...            ...           ...           ...           ...           ...   \n1198          3.17          2.90          3.68          4.26         15.77   \n1199        122.04        125.37        124.81        123.37        150.37   \n1200        414.01        422.22        444.41        426.52        415.13   \n1201          8.34          7.88          8.58          8.97          9.65   \n1202        405.67        414.34        435.83        417.55        405.48   \n\n      SEMANA 40-19  SEMANA 41-19  SEMANA 42-19  SEMANA 43-19  \n0        174007.15     161318.16     167443.57     168864.74  \n1         94935.21      88990.29      93129.65      94775.14  \n2         46172.01      44171.38      47021.42      48898.92  \n3          3796.80       3552.76       3555.23       3515.62  \n4           578.18        500.98        523.00        537.21  \n...            ...           ...           ...           ...  \n1198         16.87          9.58          6.47          4.96  \n1199        151.44        134.17        129.03        121.91  \n1200        415.29        394.74        398.48        402.26  \n1201          8.85          8.31          8.17          8.08  \n1202        406.44        386.43        390.32        394.18  \n\n[1203 rows x 166 columns]",
      "text/html": "<div>\n<style scoped>\n    .dataframe tbody tr th:only-of-type {\n        vertical-align: middle;\n    }\n\n    .dataframe tbody tr th {\n        vertical-align: top;\n    }\n\n    .dataframe thead th {\n        text-align: right;\n    }\n</style>\n<table border=\"1\" class=\"dataframe\">\n  <thead>\n    <tr style=\"text-align: right;\">\n      <th></th>\n      <th>Unnamed: 0</th>\n      <th>SECTOR</th>\n      <th>SECCION</th>\n      <th>CATEGORIA</th>\n      <th>FAMILIA</th>\n      <th>SEGMENTO BIO</th>\n      <th>SEMANA 40-16</th>\n      <th>SEMANA 41-16</th>\n      <th>SEMANA 42-16</th>\n      <th>SEMANA 43-16</th>\n      <th>...</th>\n      <th>SEMANA 34-19</th>\n      <th>SEMANA 35-19</th>\n      <th>SEMANA 36-19</th>\n      <th>SEMANA 37-19</th>\n      <th>SEMANA 38-19</th>\n      <th>SEMANA 39-19</th>\n      <th>SEMANA 40-19</th>\n      <th>SEMANA 41-19</th>\n      <th>SEMANA 42-19</th>\n      <th>SEMANA 43-19</th>\n    </tr>\n  </thead>\n  <tbody>\n    <tr>\n      <th>0</th>\n      <td>TOTAL PGC</td>\n      <td>NaN</td>\n      <td>NaN</td>\n      <td>NaN</td>\n      <td>NaN</td>\n      <td>NaN</td>\n      <td>70327.94</td>\n      <td>68023.56</td>\n      <td>68846.55</td>\n      <td>72378.68</td>\n      <td>...</td>\n      <td>177706.29</td>\n      <td>183376.16</td>\n      <td>177862.27</td>\n      <td>169220.32</td>\n      <td>167775.90</td>\n      <td>171309.65</td>\n      <td>174007.15</td>\n      <td>161318.16</td>\n      <td>167443.57</td>\n      <td>168864.74</td>\n    </tr>\n    <tr>\n      <th>1</th>\n      <td>ALIM. Y BEBIDAS</td>\n      <td>ALIM. Y BEBIDAS</td>\n      <td>NaN</td>\n      <td>NaN</td>\n      <td>NaN</td>\n      <td>NaN</td>\n      <td>39777.17</td>\n      <td>38553.12</td>\n      <td>39145.82</td>\n      <td>41595.26</td>\n      <td>...</td>\n      <td>98944.73</td>\n      <td>100481.38</td>\n      <td>96819.19</td>\n      <td>92478.18</td>\n      <td>92111.26</td>\n      <td>93833.96</td>\n      <td>94935.21</td>\n      <td>88990.29</td>\n      <td>93129.65</td>\n      <td>94775.14</td>\n    </tr>\n    <tr>\n      <th>2</th>\n      <td>ALIM.SECA</td>\n      <td>ALIM. Y BEBIDAS</td>\n      <td>ALIM.SECA</td>\n      <td>NaN</td>\n      <td>NaN</td>\n      <td>NaN</td>\n      <td>19823.16</td>\n      <td>19571.58</td>\n      <td>20018.28</td>\n      <td>21250.49</td>\n      <td>...</td>\n      <td>43342.82</td>\n      <td>44952.52</td>\n      <td>44669.37</td>\n      <td>43894.22</td>\n      <td>43480.27</td>\n      <td>44579.68</td>\n      <td>46172.01</td>\n      <td>44171.38</td>\n      <td>47021.42</td>\n      <td>48898.92</td>\n    </tr>\n    <tr>\n      <th>3</th>\n      <td>ACEITE</td>\n      <td>ALIM. Y BEBIDAS</td>\n      <td>ALIM.SECA</td>\n      <td>ACEITE</td>\n      <td>NaN</td>\n      <td>NaN</td>\n      <td>2302.93</td>\n      <td>2191.72</td>\n      <td>2228.66</td>\n      <td>2289.00</td>\n      <td>...</td>\n      <td>3312.98</td>\n      <td>3651.12</td>\n      <td>3670.37</td>\n      <td>3336.79</td>\n      <td>3333.10</td>\n      <td>3523.74</td>\n      <td>3796.80</td>\n      <td>3552.76</td>\n      <td>3555.23</td>\n      <td>3515.62</td>\n    </tr>\n    <tr>\n      <th>4</th>\n      <td>GIRASOL..</td>\n      <td>ALIM. Y BEBIDAS</td>\n      <td>ALIM.SECA</td>\n      <td>ACEITE</td>\n      <td>GIRASOL..</td>\n      <td>NaN</td>\n      <td>420.76</td>\n      <td>421.54</td>\n      <td>407.75</td>\n      <td>433.43</td>\n      <td>...</td>\n      <td>487.37</td>\n      <td>548.21</td>\n      <td>559.53</td>\n      <td>523.39</td>\n      <td>503.79</td>\n      <td>537.40</td>\n      <td>578.18</td>\n      <td>500.98</td>\n      <td>523.00</td>\n      <td>537.21</td>\n    </tr>\n    <tr>\n      <th>...</th>\n      <td>...</td>\n      <td>...</td>\n      <td>...</td>\n      <td>...</td>\n      <td>...</td>\n      <td>...</td>\n      <td>...</td>\n      <td>...</td>\n      <td>...</td>\n      <td>...</td>\n      <td>...</td>\n      <td>...</td>\n      <td>...</td>\n      <td>...</td>\n      <td>...</td>\n      <td>...</td>\n      <td>...</td>\n      <td>...</td>\n      <td>...</td>\n      <td>...</td>\n      <td>...</td>\n    </tr>\n    <tr>\n      <th>1198</th>\n      <td>RQN.AL CORTE BIO</td>\n      <td>PROD.FRESCOS</td>\n      <td>QUESOS</td>\n      <td>RESTO QUESOS NATURALES</td>\n      <td>RQN.AL CORTE</td>\n      <td>BIO</td>\n      <td>0.00</td>\n      <td>0.00</td>\n      <td>0.00</td>\n      <td>0.00</td>\n      <td>...</td>\n      <td>2.63</td>\n      <td>3.17</td>\n      <td>2.90</td>\n      <td>3.68</td>\n      <td>4.26</td>\n      <td>15.77</td>\n      <td>16.87</td>\n      <td>9.58</td>\n      <td>6.47</td>\n      <td>4.96</td>\n    </tr>\n    <tr>\n      <th>1199</th>\n      <td>RQN.AL CORTE NO BIO</td>\n      <td>PROD.FRESCOS</td>\n      <td>QUESOS</td>\n      <td>RESTO QUESOS NATURALES</td>\n      <td>RQN.AL CORTE</td>\n      <td>NO BIO</td>\n      <td>41.36</td>\n      <td>38.28</td>\n      <td>39.70</td>\n      <td>29.62</td>\n      <td>...</td>\n      <td>116.32</td>\n      <td>122.04</td>\n      <td>125.37</td>\n      <td>124.81</td>\n      <td>123.37</td>\n      <td>150.37</td>\n      <td>151.44</td>\n      <td>134.17</td>\n      <td>129.03</td>\n      <td>121.91</td>\n    </tr>\n    <tr>\n      <th>1200</th>\n      <td>RQN.EMPAQUETADO</td>\n      <td>PROD.FRESCOS</td>\n      <td>QUESOS</td>\n      <td>RESTO QUESOS NATURALES</td>\n      <td>RQN.EMPAQUETADO</td>\n      <td>NaN</td>\n      <td>152.73</td>\n      <td>150.41</td>\n      <td>150.97</td>\n      <td>153.27</td>\n      <td>...</td>\n      <td>421.34</td>\n      <td>414.01</td>\n      <td>422.22</td>\n      <td>444.41</td>\n      <td>426.52</td>\n      <td>415.13</td>\n      <td>415.29</td>\n      <td>394.74</td>\n      <td>398.48</td>\n      <td>402.26</td>\n    </tr>\n    <tr>\n      <th>1201</th>\n      <td>RQN.EMPAQUETADO BIO</td>\n      <td>PROD.FRESCOS</td>\n      <td>QUESOS</td>\n      <td>RESTO QUESOS NATURALES</td>\n      <td>RQN.EMPAQUETADO</td>\n      <td>BIO</td>\n      <td>2.02</td>\n      <td>2.10</td>\n      <td>1.62</td>\n      <td>1.99</td>\n      <td>...</td>\n      <td>7.66</td>\n      <td>8.34</td>\n      <td>7.88</td>\n      <td>8.58</td>\n      <td>8.97</td>\n      <td>9.65</td>\n      <td>8.85</td>\n      <td>8.31</td>\n      <td>8.17</td>\n      <td>8.08</td>\n    </tr>\n    <tr>\n      <th>1202</th>\n      <td>RQN.EMPAQUETADO NO BIO</td>\n      <td>PROD.FRESCOS</td>\n      <td>QUESOS</td>\n      <td>RESTO QUESOS NATURALES</td>\n      <td>RQN.EMPAQUETADO</td>\n      <td>NO BIO</td>\n      <td>150.71</td>\n      <td>148.31</td>\n      <td>149.34</td>\n      <td>151.28</td>\n      <td>...</td>\n      <td>413.68</td>\n      <td>405.67</td>\n      <td>414.34</td>\n      <td>435.83</td>\n      <td>417.55</td>\n      <td>405.48</td>\n      <td>406.44</td>\n      <td>386.43</td>\n      <td>390.32</td>\n      <td>394.18</td>\n    </tr>\n  </tbody>\n</table>\n<p>1203 rows × 166 columns</p>\n</div>"
     },
     "execution_count": 96,
     "metadata": {},
     "output_type": "execute_result"
    }
   ],
   "source": [
    "datasets['catalunya'].dataframe\n"
   ],
   "metadata": {
    "collapsed": false,
    "pycharm": {
     "name": "#%%\n"
    }
   }
  },
  {
   "cell_type": "markdown",
   "source": [
    "## TRANSFORM DATAFRAME"
   ],
   "metadata": {
    "collapsed": false
   }
  },
  {
   "cell_type": "code",
   "execution_count": 97,
   "metadata": {
    "collapsed": true
   },
   "outputs": [],
   "source": [
    "cleaner = Cleaner(datasets['catalunya'].dataframe.copy())"
   ]
  },
  {
   "cell_type": "code",
   "execution_count": 98,
   "outputs": [
    {
     "name": "stdout",
     "output_type": "stream",
     "text": [
      "Renaming column from \"Unnamed: 0\" to \"PRODUCTO\"\n",
      "Excluding totalizer rows\n",
      "Renaming column from \"Unnamed: 0\" to \"PRODUCTO\"\n",
      "Excluding non totalizer rows\n"
     ]
    }
   ],
   "source": [
    "df = cleaner.get_refined_data()\n",
    "totalizer = cleaner.get_totalizer()"
   ],
   "metadata": {
    "collapsed": false,
    "pycharm": {
     "name": "#%%\n"
    }
   }
  },
  {
   "cell_type": "code",
   "execution_count": 99,
   "outputs": [
    {
     "data": {
      "text/plain": "                   PRODUCTO           SECTOR    SECCION  \\\n0             GIRASOL.. BIO  ALIM. Y BEBIDAS  ALIM.SECA   \n1          GIRASOL.. NO BIO  ALIM. Y BEBIDAS  ALIM.SECA   \n2                 OLIVA BIO  ALIM. Y BEBIDAS  ALIM.SECA   \n3              OLIVA NO BIO  ALIM. Y BEBIDAS  ALIM.SECA   \n4         RESTO ACEITES BIO  ALIM. Y BEBIDAS  ALIM.SECA   \n..                      ...              ...        ...   \n674       Q.REQUESON NO BIO     PROD.FRESCOS     QUESOS   \n675        RQN.AL CORTE BIO     PROD.FRESCOS     QUESOS   \n676     RQN.AL CORTE NO BIO     PROD.FRESCOS     QUESOS   \n677     RQN.EMPAQUETADO BIO     PROD.FRESCOS     QUESOS   \n678  RQN.EMPAQUETADO NO BIO     PROD.FRESCOS     QUESOS   \n\n                  CATEGORIA          FAMILIA SEGMENTO BIO  SEMANA 40-16  \\\n0                    ACEITE        GIRASOL..          BIO          0.01   \n1                    ACEITE        GIRASOL..       NO BIO        420.75   \n2                    ACEITE            OLIVA          BIO         27.81   \n3                    ACEITE            OLIVA       NO BIO       1720.37   \n4                    ACEITE    RESTO ACEITES          BIO          0.13   \n..                      ...              ...          ...           ...   \n674                REQUESON       Q.REQUESON       NO BIO         43.82   \n675  RESTO QUESOS NATURALES     RQN.AL CORTE          BIO          0.00   \n676  RESTO QUESOS NATURALES     RQN.AL CORTE       NO BIO         41.36   \n677  RESTO QUESOS NATURALES  RQN.EMPAQUETADO          BIO          2.02   \n678  RESTO QUESOS NATURALES  RQN.EMPAQUETADO       NO BIO        150.71   \n\n     SEMANA 41-16  SEMANA 42-16  SEMANA 43-16  ...  SEMANA 34-19  \\\n0            0.01          0.00          0.00  ...          0.11   \n1          421.53        407.75        433.42  ...        487.26   \n2           26.32         24.77         26.27  ...         40.64   \n3         1633.57       1685.96       1714.32  ...       2689.10   \n4            0.13          0.10          0.14  ...          7.46   \n..            ...           ...           ...  ...           ...   \n674         43.77         42.72         43.35  ...         86.33   \n675          0.00          0.00          0.00  ...          2.63   \n676         38.28         39.70         29.62  ...        116.32   \n677          2.10          1.62          1.99  ...          7.66   \n678        148.31        149.34        151.28  ...        413.68   \n\n     SEMANA 35-19  SEMANA 36-19  SEMANA 37-19  SEMANA 38-19  SEMANA 39-19  \\\n0            0.12          0.17          0.15          0.15          0.17   \n1          548.09        559.36        523.24        503.64        537.23   \n2           35.42         35.85         32.99         45.56         43.29   \n3         2962.55       2972.90       2685.73       2692.74       2847.56   \n4            7.74          7.18          6.86          6.82          7.01   \n..            ...           ...           ...           ...           ...   \n674         88.96         92.77         96.12        103.90        107.14   \n675          3.17          2.90          3.68          4.26         15.77   \n676        122.04        125.37        124.81        123.37        150.37   \n677          8.34          7.88          8.58          8.97          9.65   \n678        405.67        414.34        435.83        417.55        405.48   \n\n     SEMANA 40-19  SEMANA 41-19  SEMANA 42-19  SEMANA 43-19  \n0            0.14          0.14          0.14          0.16  \n1          578.04        500.84        522.87        537.05  \n2           36.67         35.02         33.89         32.02  \n3         3082.79       2929.48       2908.30       2856.36  \n4            6.59          6.26          6.47          6.29  \n..            ...           ...           ...           ...  \n674        107.92        106.99        108.83        108.18  \n675         16.87          9.58          6.47          4.96  \n676        151.44        134.17        129.03        121.91  \n677          8.85          8.31          8.17          8.08  \n678        406.44        386.43        390.32        394.18  \n\n[679 rows x 166 columns]",
      "text/html": "<div>\n<style scoped>\n    .dataframe tbody tr th:only-of-type {\n        vertical-align: middle;\n    }\n\n    .dataframe tbody tr th {\n        vertical-align: top;\n    }\n\n    .dataframe thead th {\n        text-align: right;\n    }\n</style>\n<table border=\"1\" class=\"dataframe\">\n  <thead>\n    <tr style=\"text-align: right;\">\n      <th></th>\n      <th>PRODUCTO</th>\n      <th>SECTOR</th>\n      <th>SECCION</th>\n      <th>CATEGORIA</th>\n      <th>FAMILIA</th>\n      <th>SEGMENTO BIO</th>\n      <th>SEMANA 40-16</th>\n      <th>SEMANA 41-16</th>\n      <th>SEMANA 42-16</th>\n      <th>SEMANA 43-16</th>\n      <th>...</th>\n      <th>SEMANA 34-19</th>\n      <th>SEMANA 35-19</th>\n      <th>SEMANA 36-19</th>\n      <th>SEMANA 37-19</th>\n      <th>SEMANA 38-19</th>\n      <th>SEMANA 39-19</th>\n      <th>SEMANA 40-19</th>\n      <th>SEMANA 41-19</th>\n      <th>SEMANA 42-19</th>\n      <th>SEMANA 43-19</th>\n    </tr>\n  </thead>\n  <tbody>\n    <tr>\n      <th>0</th>\n      <td>GIRASOL.. BIO</td>\n      <td>ALIM. Y BEBIDAS</td>\n      <td>ALIM.SECA</td>\n      <td>ACEITE</td>\n      <td>GIRASOL..</td>\n      <td>BIO</td>\n      <td>0.01</td>\n      <td>0.01</td>\n      <td>0.00</td>\n      <td>0.00</td>\n      <td>...</td>\n      <td>0.11</td>\n      <td>0.12</td>\n      <td>0.17</td>\n      <td>0.15</td>\n      <td>0.15</td>\n      <td>0.17</td>\n      <td>0.14</td>\n      <td>0.14</td>\n      <td>0.14</td>\n      <td>0.16</td>\n    </tr>\n    <tr>\n      <th>1</th>\n      <td>GIRASOL.. NO BIO</td>\n      <td>ALIM. Y BEBIDAS</td>\n      <td>ALIM.SECA</td>\n      <td>ACEITE</td>\n      <td>GIRASOL..</td>\n      <td>NO BIO</td>\n      <td>420.75</td>\n      <td>421.53</td>\n      <td>407.75</td>\n      <td>433.42</td>\n      <td>...</td>\n      <td>487.26</td>\n      <td>548.09</td>\n      <td>559.36</td>\n      <td>523.24</td>\n      <td>503.64</td>\n      <td>537.23</td>\n      <td>578.04</td>\n      <td>500.84</td>\n      <td>522.87</td>\n      <td>537.05</td>\n    </tr>\n    <tr>\n      <th>2</th>\n      <td>OLIVA BIO</td>\n      <td>ALIM. Y BEBIDAS</td>\n      <td>ALIM.SECA</td>\n      <td>ACEITE</td>\n      <td>OLIVA</td>\n      <td>BIO</td>\n      <td>27.81</td>\n      <td>26.32</td>\n      <td>24.77</td>\n      <td>26.27</td>\n      <td>...</td>\n      <td>40.64</td>\n      <td>35.42</td>\n      <td>35.85</td>\n      <td>32.99</td>\n      <td>45.56</td>\n      <td>43.29</td>\n      <td>36.67</td>\n      <td>35.02</td>\n      <td>33.89</td>\n      <td>32.02</td>\n    </tr>\n    <tr>\n      <th>3</th>\n      <td>OLIVA NO BIO</td>\n      <td>ALIM. Y BEBIDAS</td>\n      <td>ALIM.SECA</td>\n      <td>ACEITE</td>\n      <td>OLIVA</td>\n      <td>NO BIO</td>\n      <td>1720.37</td>\n      <td>1633.57</td>\n      <td>1685.96</td>\n      <td>1714.32</td>\n      <td>...</td>\n      <td>2689.10</td>\n      <td>2962.55</td>\n      <td>2972.90</td>\n      <td>2685.73</td>\n      <td>2692.74</td>\n      <td>2847.56</td>\n      <td>3082.79</td>\n      <td>2929.48</td>\n      <td>2908.30</td>\n      <td>2856.36</td>\n    </tr>\n    <tr>\n      <th>4</th>\n      <td>RESTO ACEITES BIO</td>\n      <td>ALIM. Y BEBIDAS</td>\n      <td>ALIM.SECA</td>\n      <td>ACEITE</td>\n      <td>RESTO ACEITES</td>\n      <td>BIO</td>\n      <td>0.13</td>\n      <td>0.13</td>\n      <td>0.10</td>\n      <td>0.14</td>\n      <td>...</td>\n      <td>7.46</td>\n      <td>7.74</td>\n      <td>7.18</td>\n      <td>6.86</td>\n      <td>6.82</td>\n      <td>7.01</td>\n      <td>6.59</td>\n      <td>6.26</td>\n      <td>6.47</td>\n      <td>6.29</td>\n    </tr>\n    <tr>\n      <th>...</th>\n      <td>...</td>\n      <td>...</td>\n      <td>...</td>\n      <td>...</td>\n      <td>...</td>\n      <td>...</td>\n      <td>...</td>\n      <td>...</td>\n      <td>...</td>\n      <td>...</td>\n      <td>...</td>\n      <td>...</td>\n      <td>...</td>\n      <td>...</td>\n      <td>...</td>\n      <td>...</td>\n      <td>...</td>\n      <td>...</td>\n      <td>...</td>\n      <td>...</td>\n      <td>...</td>\n    </tr>\n    <tr>\n      <th>674</th>\n      <td>Q.REQUESON NO BIO</td>\n      <td>PROD.FRESCOS</td>\n      <td>QUESOS</td>\n      <td>REQUESON</td>\n      <td>Q.REQUESON</td>\n      <td>NO BIO</td>\n      <td>43.82</td>\n      <td>43.77</td>\n      <td>42.72</td>\n      <td>43.35</td>\n      <td>...</td>\n      <td>86.33</td>\n      <td>88.96</td>\n      <td>92.77</td>\n      <td>96.12</td>\n      <td>103.90</td>\n      <td>107.14</td>\n      <td>107.92</td>\n      <td>106.99</td>\n      <td>108.83</td>\n      <td>108.18</td>\n    </tr>\n    <tr>\n      <th>675</th>\n      <td>RQN.AL CORTE BIO</td>\n      <td>PROD.FRESCOS</td>\n      <td>QUESOS</td>\n      <td>RESTO QUESOS NATURALES</td>\n      <td>RQN.AL CORTE</td>\n      <td>BIO</td>\n      <td>0.00</td>\n      <td>0.00</td>\n      <td>0.00</td>\n      <td>0.00</td>\n      <td>...</td>\n      <td>2.63</td>\n      <td>3.17</td>\n      <td>2.90</td>\n      <td>3.68</td>\n      <td>4.26</td>\n      <td>15.77</td>\n      <td>16.87</td>\n      <td>9.58</td>\n      <td>6.47</td>\n      <td>4.96</td>\n    </tr>\n    <tr>\n      <th>676</th>\n      <td>RQN.AL CORTE NO BIO</td>\n      <td>PROD.FRESCOS</td>\n      <td>QUESOS</td>\n      <td>RESTO QUESOS NATURALES</td>\n      <td>RQN.AL CORTE</td>\n      <td>NO BIO</td>\n      <td>41.36</td>\n      <td>38.28</td>\n      <td>39.70</td>\n      <td>29.62</td>\n      <td>...</td>\n      <td>116.32</td>\n      <td>122.04</td>\n      <td>125.37</td>\n      <td>124.81</td>\n      <td>123.37</td>\n      <td>150.37</td>\n      <td>151.44</td>\n      <td>134.17</td>\n      <td>129.03</td>\n      <td>121.91</td>\n    </tr>\n    <tr>\n      <th>677</th>\n      <td>RQN.EMPAQUETADO BIO</td>\n      <td>PROD.FRESCOS</td>\n      <td>QUESOS</td>\n      <td>RESTO QUESOS NATURALES</td>\n      <td>RQN.EMPAQUETADO</td>\n      <td>BIO</td>\n      <td>2.02</td>\n      <td>2.10</td>\n      <td>1.62</td>\n      <td>1.99</td>\n      <td>...</td>\n      <td>7.66</td>\n      <td>8.34</td>\n      <td>7.88</td>\n      <td>8.58</td>\n      <td>8.97</td>\n      <td>9.65</td>\n      <td>8.85</td>\n      <td>8.31</td>\n      <td>8.17</td>\n      <td>8.08</td>\n    </tr>\n    <tr>\n      <th>678</th>\n      <td>RQN.EMPAQUETADO NO BIO</td>\n      <td>PROD.FRESCOS</td>\n      <td>QUESOS</td>\n      <td>RESTO QUESOS NATURALES</td>\n      <td>RQN.EMPAQUETADO</td>\n      <td>NO BIO</td>\n      <td>150.71</td>\n      <td>148.31</td>\n      <td>149.34</td>\n      <td>151.28</td>\n      <td>...</td>\n      <td>413.68</td>\n      <td>405.67</td>\n      <td>414.34</td>\n      <td>435.83</td>\n      <td>417.55</td>\n      <td>405.48</td>\n      <td>406.44</td>\n      <td>386.43</td>\n      <td>390.32</td>\n      <td>394.18</td>\n    </tr>\n  </tbody>\n</table>\n<p>679 rows × 166 columns</p>\n</div>"
     },
     "execution_count": 99,
     "metadata": {},
     "output_type": "execute_result"
    }
   ],
   "source": [
    "df"
   ],
   "metadata": {
    "collapsed": false,
    "pycharm": {
     "name": "#%%\n"
    }
   }
  },
  {
   "cell_type": "code",
   "execution_count": 100,
   "outputs": [
    {
     "data": {
      "text/plain": "                   PRODUCTO           SECTOR    SECCION  \\\n0                 TOTAL PGC              NaN        NaN   \n1           ALIM. Y BEBIDAS  ALIM. Y BEBIDAS        NaN   \n2                 ALIM.SECA  ALIM. Y BEBIDAS  ALIM.SECA   \n3                    ACEITE  ALIM. Y BEBIDAS  ALIM.SECA   \n4                 GIRASOL..  ALIM. Y BEBIDAS  ALIM.SECA   \n..                      ...              ...        ...   \n519                REQUESON     PROD.FRESCOS     QUESOS   \n520              Q.REQUESON     PROD.FRESCOS     QUESOS   \n521  RESTO QUESOS NATURALES     PROD.FRESCOS     QUESOS   \n522            RQN.AL CORTE     PROD.FRESCOS     QUESOS   \n523         RQN.EMPAQUETADO     PROD.FRESCOS     QUESOS   \n\n                  CATEGORIA          FAMILIA SEGMENTO BIO  SEMANA 40-16  \\\n0                       NaN              NaN          NaN      70327.94   \n1                       NaN              NaN          NaN      39777.17   \n2                       NaN              NaN          NaN      19823.16   \n3                    ACEITE              NaN          NaN       2302.93   \n4                    ACEITE        GIRASOL..          NaN        420.76   \n..                      ...              ...          ...           ...   \n519                REQUESON              NaN          NaN         43.82   \n520                REQUESON       Q.REQUESON          NaN         43.82   \n521  RESTO QUESOS NATURALES              NaN          NaN        194.10   \n522  RESTO QUESOS NATURALES     RQN.AL CORTE          NaN         41.36   \n523  RESTO QUESOS NATURALES  RQN.EMPAQUETADO          NaN        152.73   \n\n     SEMANA 41-16  SEMANA 42-16  SEMANA 43-16  ...  SEMANA 34-19  \\\n0        68023.56      68846.55      72378.68  ...     177706.29   \n1        38553.12      39145.82      41595.26  ...      98944.73   \n2        19571.58      20018.28      21250.49  ...      43342.82   \n3         2191.72       2228.66       2289.00  ...       3312.98   \n4          421.54        407.75        433.43  ...        487.37   \n..            ...           ...           ...  ...           ...   \n519         43.77         42.72         43.35  ...         86.33   \n520         43.77         42.72         43.35  ...         86.33   \n521        188.69        190.66        182.88  ...        540.28   \n522         38.28         39.70         29.62  ...        118.95   \n523        150.41        150.97        153.27  ...        421.34   \n\n     SEMANA 35-19  SEMANA 36-19  SEMANA 37-19  SEMANA 38-19  SEMANA 39-19  \\\n0       183376.16     177862.27     169220.32     167775.90     171309.65   \n1       100481.38      96819.19      92478.18      92111.26      93833.96   \n2        44952.52      44669.37      43894.22      43480.27      44579.68   \n3         3651.12       3670.37       3336.79       3333.10       3523.74   \n4          548.21        559.53        523.39        503.79        537.40   \n..            ...           ...           ...           ...           ...   \n519         88.96         92.77         96.12        103.90        107.14   \n520         88.96         92.77         96.12        103.90        107.14   \n521        539.22        550.49        572.90        554.15        581.27   \n522        125.21        128.27        128.49        127.63        166.14   \n523        414.01        422.22        444.41        426.52        415.13   \n\n     SEMANA 40-19  SEMANA 41-19  SEMANA 42-19  SEMANA 43-19  \n0       174007.15     161318.16     167443.57     168864.74  \n1        94935.21      88990.29      93129.65      94775.14  \n2        46172.01      44171.38      47021.42      48898.92  \n3         3796.80       3552.76       3555.23       3515.62  \n4          578.18        500.98        523.00        537.21  \n..            ...           ...           ...           ...  \n519        107.92        106.99        108.83        108.18  \n520        107.92        106.99        108.83        108.18  \n521        583.61        538.48        533.98        529.13  \n522        168.31        143.74        135.50        126.87  \n523        415.29        394.74        398.48        402.26  \n\n[524 rows x 166 columns]",
      "text/html": "<div>\n<style scoped>\n    .dataframe tbody tr th:only-of-type {\n        vertical-align: middle;\n    }\n\n    .dataframe tbody tr th {\n        vertical-align: top;\n    }\n\n    .dataframe thead th {\n        text-align: right;\n    }\n</style>\n<table border=\"1\" class=\"dataframe\">\n  <thead>\n    <tr style=\"text-align: right;\">\n      <th></th>\n      <th>PRODUCTO</th>\n      <th>SECTOR</th>\n      <th>SECCION</th>\n      <th>CATEGORIA</th>\n      <th>FAMILIA</th>\n      <th>SEGMENTO BIO</th>\n      <th>SEMANA 40-16</th>\n      <th>SEMANA 41-16</th>\n      <th>SEMANA 42-16</th>\n      <th>SEMANA 43-16</th>\n      <th>...</th>\n      <th>SEMANA 34-19</th>\n      <th>SEMANA 35-19</th>\n      <th>SEMANA 36-19</th>\n      <th>SEMANA 37-19</th>\n      <th>SEMANA 38-19</th>\n      <th>SEMANA 39-19</th>\n      <th>SEMANA 40-19</th>\n      <th>SEMANA 41-19</th>\n      <th>SEMANA 42-19</th>\n      <th>SEMANA 43-19</th>\n    </tr>\n  </thead>\n  <tbody>\n    <tr>\n      <th>0</th>\n      <td>TOTAL PGC</td>\n      <td>NaN</td>\n      <td>NaN</td>\n      <td>NaN</td>\n      <td>NaN</td>\n      <td>NaN</td>\n      <td>70327.94</td>\n      <td>68023.56</td>\n      <td>68846.55</td>\n      <td>72378.68</td>\n      <td>...</td>\n      <td>177706.29</td>\n      <td>183376.16</td>\n      <td>177862.27</td>\n      <td>169220.32</td>\n      <td>167775.90</td>\n      <td>171309.65</td>\n      <td>174007.15</td>\n      <td>161318.16</td>\n      <td>167443.57</td>\n      <td>168864.74</td>\n    </tr>\n    <tr>\n      <th>1</th>\n      <td>ALIM. Y BEBIDAS</td>\n      <td>ALIM. Y BEBIDAS</td>\n      <td>NaN</td>\n      <td>NaN</td>\n      <td>NaN</td>\n      <td>NaN</td>\n      <td>39777.17</td>\n      <td>38553.12</td>\n      <td>39145.82</td>\n      <td>41595.26</td>\n      <td>...</td>\n      <td>98944.73</td>\n      <td>100481.38</td>\n      <td>96819.19</td>\n      <td>92478.18</td>\n      <td>92111.26</td>\n      <td>93833.96</td>\n      <td>94935.21</td>\n      <td>88990.29</td>\n      <td>93129.65</td>\n      <td>94775.14</td>\n    </tr>\n    <tr>\n      <th>2</th>\n      <td>ALIM.SECA</td>\n      <td>ALIM. Y BEBIDAS</td>\n      <td>ALIM.SECA</td>\n      <td>NaN</td>\n      <td>NaN</td>\n      <td>NaN</td>\n      <td>19823.16</td>\n      <td>19571.58</td>\n      <td>20018.28</td>\n      <td>21250.49</td>\n      <td>...</td>\n      <td>43342.82</td>\n      <td>44952.52</td>\n      <td>44669.37</td>\n      <td>43894.22</td>\n      <td>43480.27</td>\n      <td>44579.68</td>\n      <td>46172.01</td>\n      <td>44171.38</td>\n      <td>47021.42</td>\n      <td>48898.92</td>\n    </tr>\n    <tr>\n      <th>3</th>\n      <td>ACEITE</td>\n      <td>ALIM. Y BEBIDAS</td>\n      <td>ALIM.SECA</td>\n      <td>ACEITE</td>\n      <td>NaN</td>\n      <td>NaN</td>\n      <td>2302.93</td>\n      <td>2191.72</td>\n      <td>2228.66</td>\n      <td>2289.00</td>\n      <td>...</td>\n      <td>3312.98</td>\n      <td>3651.12</td>\n      <td>3670.37</td>\n      <td>3336.79</td>\n      <td>3333.10</td>\n      <td>3523.74</td>\n      <td>3796.80</td>\n      <td>3552.76</td>\n      <td>3555.23</td>\n      <td>3515.62</td>\n    </tr>\n    <tr>\n      <th>4</th>\n      <td>GIRASOL..</td>\n      <td>ALIM. Y BEBIDAS</td>\n      <td>ALIM.SECA</td>\n      <td>ACEITE</td>\n      <td>GIRASOL..</td>\n      <td>NaN</td>\n      <td>420.76</td>\n      <td>421.54</td>\n      <td>407.75</td>\n      <td>433.43</td>\n      <td>...</td>\n      <td>487.37</td>\n      <td>548.21</td>\n      <td>559.53</td>\n      <td>523.39</td>\n      <td>503.79</td>\n      <td>537.40</td>\n      <td>578.18</td>\n      <td>500.98</td>\n      <td>523.00</td>\n      <td>537.21</td>\n    </tr>\n    <tr>\n      <th>...</th>\n      <td>...</td>\n      <td>...</td>\n      <td>...</td>\n      <td>...</td>\n      <td>...</td>\n      <td>...</td>\n      <td>...</td>\n      <td>...</td>\n      <td>...</td>\n      <td>...</td>\n      <td>...</td>\n      <td>...</td>\n      <td>...</td>\n      <td>...</td>\n      <td>...</td>\n      <td>...</td>\n      <td>...</td>\n      <td>...</td>\n      <td>...</td>\n      <td>...</td>\n      <td>...</td>\n    </tr>\n    <tr>\n      <th>519</th>\n      <td>REQUESON</td>\n      <td>PROD.FRESCOS</td>\n      <td>QUESOS</td>\n      <td>REQUESON</td>\n      <td>NaN</td>\n      <td>NaN</td>\n      <td>43.82</td>\n      <td>43.77</td>\n      <td>42.72</td>\n      <td>43.35</td>\n      <td>...</td>\n      <td>86.33</td>\n      <td>88.96</td>\n      <td>92.77</td>\n      <td>96.12</td>\n      <td>103.90</td>\n      <td>107.14</td>\n      <td>107.92</td>\n      <td>106.99</td>\n      <td>108.83</td>\n      <td>108.18</td>\n    </tr>\n    <tr>\n      <th>520</th>\n      <td>Q.REQUESON</td>\n      <td>PROD.FRESCOS</td>\n      <td>QUESOS</td>\n      <td>REQUESON</td>\n      <td>Q.REQUESON</td>\n      <td>NaN</td>\n      <td>43.82</td>\n      <td>43.77</td>\n      <td>42.72</td>\n      <td>43.35</td>\n      <td>...</td>\n      <td>86.33</td>\n      <td>88.96</td>\n      <td>92.77</td>\n      <td>96.12</td>\n      <td>103.90</td>\n      <td>107.14</td>\n      <td>107.92</td>\n      <td>106.99</td>\n      <td>108.83</td>\n      <td>108.18</td>\n    </tr>\n    <tr>\n      <th>521</th>\n      <td>RESTO QUESOS NATURALES</td>\n      <td>PROD.FRESCOS</td>\n      <td>QUESOS</td>\n      <td>RESTO QUESOS NATURALES</td>\n      <td>NaN</td>\n      <td>NaN</td>\n      <td>194.10</td>\n      <td>188.69</td>\n      <td>190.66</td>\n      <td>182.88</td>\n      <td>...</td>\n      <td>540.28</td>\n      <td>539.22</td>\n      <td>550.49</td>\n      <td>572.90</td>\n      <td>554.15</td>\n      <td>581.27</td>\n      <td>583.61</td>\n      <td>538.48</td>\n      <td>533.98</td>\n      <td>529.13</td>\n    </tr>\n    <tr>\n      <th>522</th>\n      <td>RQN.AL CORTE</td>\n      <td>PROD.FRESCOS</td>\n      <td>QUESOS</td>\n      <td>RESTO QUESOS NATURALES</td>\n      <td>RQN.AL CORTE</td>\n      <td>NaN</td>\n      <td>41.36</td>\n      <td>38.28</td>\n      <td>39.70</td>\n      <td>29.62</td>\n      <td>...</td>\n      <td>118.95</td>\n      <td>125.21</td>\n      <td>128.27</td>\n      <td>128.49</td>\n      <td>127.63</td>\n      <td>166.14</td>\n      <td>168.31</td>\n      <td>143.74</td>\n      <td>135.50</td>\n      <td>126.87</td>\n    </tr>\n    <tr>\n      <th>523</th>\n      <td>RQN.EMPAQUETADO</td>\n      <td>PROD.FRESCOS</td>\n      <td>QUESOS</td>\n      <td>RESTO QUESOS NATURALES</td>\n      <td>RQN.EMPAQUETADO</td>\n      <td>NaN</td>\n      <td>152.73</td>\n      <td>150.41</td>\n      <td>150.97</td>\n      <td>153.27</td>\n      <td>...</td>\n      <td>421.34</td>\n      <td>414.01</td>\n      <td>422.22</td>\n      <td>444.41</td>\n      <td>426.52</td>\n      <td>415.13</td>\n      <td>415.29</td>\n      <td>394.74</td>\n      <td>398.48</td>\n      <td>402.26</td>\n    </tr>\n  </tbody>\n</table>\n<p>524 rows × 166 columns</p>\n</div>"
     },
     "execution_count": 100,
     "metadata": {},
     "output_type": "execute_result"
    }
   ],
   "source": [
    "totalizer"
   ],
   "metadata": {
    "collapsed": false,
    "pycharm": {
     "name": "#%%\n"
    }
   }
  },
  {
   "cell_type": "markdown",
   "source": [
    "### to fix"
   ],
   "metadata": {
    "collapsed": false
   }
  },
  {
   "cell_type": "code",
   "execution_count": 101,
   "outputs": [
    {
     "data": {
      "text/plain": "                   PRODUCTO           SECTOR    SECCION  \\\n0                 TOTAL PGC              NaN        NaN   \n1           ALIM. Y BEBIDAS  ALIM. Y BEBIDAS        NaN   \n2                 ALIM.SECA  ALIM. Y BEBIDAS  ALIM.SECA   \n3                    ACEITE  ALIM. Y BEBIDAS  ALIM.SECA   \n4                 GIRASOL..  ALIM. Y BEBIDAS  ALIM.SECA   \n..                      ...              ...        ...   \n519                REQUESON     PROD.FRESCOS     QUESOS   \n520              Q.REQUESON     PROD.FRESCOS     QUESOS   \n521  RESTO QUESOS NATURALES     PROD.FRESCOS     QUESOS   \n522            RQN.AL CORTE     PROD.FRESCOS     QUESOS   \n523         RQN.EMPAQUETADO     PROD.FRESCOS     QUESOS   \n\n                  CATEGORIA          FAMILIA SEGMENTO BIO  SEMANA 40-16  \\\n0                       NaN              NaN          NaN      70327.94   \n1                       NaN              NaN          NaN      39777.17   \n2                       NaN              NaN          NaN      19823.16   \n3                    ACEITE              NaN          NaN       2302.93   \n4                    ACEITE        GIRASOL..          NaN        420.76   \n..                      ...              ...          ...           ...   \n519                REQUESON              NaN          NaN         43.82   \n520                REQUESON       Q.REQUESON          NaN         43.82   \n521  RESTO QUESOS NATURALES              NaN          NaN        194.10   \n522  RESTO QUESOS NATURALES     RQN.AL CORTE          NaN         41.36   \n523  RESTO QUESOS NATURALES  RQN.EMPAQUETADO          NaN        152.73   \n\n     SEMANA 41-16  SEMANA 42-16  SEMANA 43-16  ...  SEMANA 34-19  \\\n0        68023.56      68846.55      72378.68  ...     177706.29   \n1        38553.12      39145.82      41595.26  ...      98944.73   \n2        19571.58      20018.28      21250.49  ...      43342.82   \n3         2191.72       2228.66       2289.00  ...       3312.98   \n4          421.54        407.75        433.43  ...        487.37   \n..            ...           ...           ...  ...           ...   \n519         43.77         42.72         43.35  ...         86.33   \n520         43.77         42.72         43.35  ...         86.33   \n521        188.69        190.66        182.88  ...        540.28   \n522         38.28         39.70         29.62  ...        118.95   \n523        150.41        150.97        153.27  ...        421.34   \n\n     SEMANA 35-19  SEMANA 36-19  SEMANA 37-19  SEMANA 38-19  SEMANA 39-19  \\\n0       183376.16     177862.27     169220.32     167775.90     171309.65   \n1       100481.38      96819.19      92478.18      92111.26      93833.96   \n2        44952.52      44669.37      43894.22      43480.27      44579.68   \n3         3651.12       3670.37       3336.79       3333.10       3523.74   \n4          548.21        559.53        523.39        503.79        537.40   \n..            ...           ...           ...           ...           ...   \n519         88.96         92.77         96.12        103.90        107.14   \n520         88.96         92.77         96.12        103.90        107.14   \n521        539.22        550.49        572.90        554.15        581.27   \n522        125.21        128.27        128.49        127.63        166.14   \n523        414.01        422.22        444.41        426.52        415.13   \n\n     SEMANA 40-19  SEMANA 41-19  SEMANA 42-19  SEMANA 43-19  \n0       174007.15     161318.16     167443.57     168864.74  \n1        94935.21      88990.29      93129.65      94775.14  \n2        46172.01      44171.38      47021.42      48898.92  \n3         3796.80       3552.76       3555.23       3515.62  \n4          578.18        500.98        523.00        537.21  \n..            ...           ...           ...           ...  \n519        107.92        106.99        108.83        108.18  \n520        107.92        106.99        108.83        108.18  \n521        583.61        538.48        533.98        529.13  \n522        168.31        143.74        135.50        126.87  \n523        415.29        394.74        398.48        402.26  \n\n[524 rows x 166 columns]",
      "text/html": "<div>\n<style scoped>\n    .dataframe tbody tr th:only-of-type {\n        vertical-align: middle;\n    }\n\n    .dataframe tbody tr th {\n        vertical-align: top;\n    }\n\n    .dataframe thead th {\n        text-align: right;\n    }\n</style>\n<table border=\"1\" class=\"dataframe\">\n  <thead>\n    <tr style=\"text-align: right;\">\n      <th></th>\n      <th>PRODUCTO</th>\n      <th>SECTOR</th>\n      <th>SECCION</th>\n      <th>CATEGORIA</th>\n      <th>FAMILIA</th>\n      <th>SEGMENTO BIO</th>\n      <th>SEMANA 40-16</th>\n      <th>SEMANA 41-16</th>\n      <th>SEMANA 42-16</th>\n      <th>SEMANA 43-16</th>\n      <th>...</th>\n      <th>SEMANA 34-19</th>\n      <th>SEMANA 35-19</th>\n      <th>SEMANA 36-19</th>\n      <th>SEMANA 37-19</th>\n      <th>SEMANA 38-19</th>\n      <th>SEMANA 39-19</th>\n      <th>SEMANA 40-19</th>\n      <th>SEMANA 41-19</th>\n      <th>SEMANA 42-19</th>\n      <th>SEMANA 43-19</th>\n    </tr>\n  </thead>\n  <tbody>\n    <tr>\n      <th>0</th>\n      <td>TOTAL PGC</td>\n      <td>NaN</td>\n      <td>NaN</td>\n      <td>NaN</td>\n      <td>NaN</td>\n      <td>NaN</td>\n      <td>70327.94</td>\n      <td>68023.56</td>\n      <td>68846.55</td>\n      <td>72378.68</td>\n      <td>...</td>\n      <td>177706.29</td>\n      <td>183376.16</td>\n      <td>177862.27</td>\n      <td>169220.32</td>\n      <td>167775.90</td>\n      <td>171309.65</td>\n      <td>174007.15</td>\n      <td>161318.16</td>\n      <td>167443.57</td>\n      <td>168864.74</td>\n    </tr>\n    <tr>\n      <th>1</th>\n      <td>ALIM. Y BEBIDAS</td>\n      <td>ALIM. Y BEBIDAS</td>\n      <td>NaN</td>\n      <td>NaN</td>\n      <td>NaN</td>\n      <td>NaN</td>\n      <td>39777.17</td>\n      <td>38553.12</td>\n      <td>39145.82</td>\n      <td>41595.26</td>\n      <td>...</td>\n      <td>98944.73</td>\n      <td>100481.38</td>\n      <td>96819.19</td>\n      <td>92478.18</td>\n      <td>92111.26</td>\n      <td>93833.96</td>\n      <td>94935.21</td>\n      <td>88990.29</td>\n      <td>93129.65</td>\n      <td>94775.14</td>\n    </tr>\n    <tr>\n      <th>2</th>\n      <td>ALIM.SECA</td>\n      <td>ALIM. Y BEBIDAS</td>\n      <td>ALIM.SECA</td>\n      <td>NaN</td>\n      <td>NaN</td>\n      <td>NaN</td>\n      <td>19823.16</td>\n      <td>19571.58</td>\n      <td>20018.28</td>\n      <td>21250.49</td>\n      <td>...</td>\n      <td>43342.82</td>\n      <td>44952.52</td>\n      <td>44669.37</td>\n      <td>43894.22</td>\n      <td>43480.27</td>\n      <td>44579.68</td>\n      <td>46172.01</td>\n      <td>44171.38</td>\n      <td>47021.42</td>\n      <td>48898.92</td>\n    </tr>\n    <tr>\n      <th>3</th>\n      <td>ACEITE</td>\n      <td>ALIM. Y BEBIDAS</td>\n      <td>ALIM.SECA</td>\n      <td>ACEITE</td>\n      <td>NaN</td>\n      <td>NaN</td>\n      <td>2302.93</td>\n      <td>2191.72</td>\n      <td>2228.66</td>\n      <td>2289.00</td>\n      <td>...</td>\n      <td>3312.98</td>\n      <td>3651.12</td>\n      <td>3670.37</td>\n      <td>3336.79</td>\n      <td>3333.10</td>\n      <td>3523.74</td>\n      <td>3796.80</td>\n      <td>3552.76</td>\n      <td>3555.23</td>\n      <td>3515.62</td>\n    </tr>\n    <tr>\n      <th>4</th>\n      <td>GIRASOL..</td>\n      <td>ALIM. Y BEBIDAS</td>\n      <td>ALIM.SECA</td>\n      <td>ACEITE</td>\n      <td>GIRASOL..</td>\n      <td>NaN</td>\n      <td>420.76</td>\n      <td>421.54</td>\n      <td>407.75</td>\n      <td>433.43</td>\n      <td>...</td>\n      <td>487.37</td>\n      <td>548.21</td>\n      <td>559.53</td>\n      <td>523.39</td>\n      <td>503.79</td>\n      <td>537.40</td>\n      <td>578.18</td>\n      <td>500.98</td>\n      <td>523.00</td>\n      <td>537.21</td>\n    </tr>\n    <tr>\n      <th>...</th>\n      <td>...</td>\n      <td>...</td>\n      <td>...</td>\n      <td>...</td>\n      <td>...</td>\n      <td>...</td>\n      <td>...</td>\n      <td>...</td>\n      <td>...</td>\n      <td>...</td>\n      <td>...</td>\n      <td>...</td>\n      <td>...</td>\n      <td>...</td>\n      <td>...</td>\n      <td>...</td>\n      <td>...</td>\n      <td>...</td>\n      <td>...</td>\n      <td>...</td>\n      <td>...</td>\n    </tr>\n    <tr>\n      <th>519</th>\n      <td>REQUESON</td>\n      <td>PROD.FRESCOS</td>\n      <td>QUESOS</td>\n      <td>REQUESON</td>\n      <td>NaN</td>\n      <td>NaN</td>\n      <td>43.82</td>\n      <td>43.77</td>\n      <td>42.72</td>\n      <td>43.35</td>\n      <td>...</td>\n      <td>86.33</td>\n      <td>88.96</td>\n      <td>92.77</td>\n      <td>96.12</td>\n      <td>103.90</td>\n      <td>107.14</td>\n      <td>107.92</td>\n      <td>106.99</td>\n      <td>108.83</td>\n      <td>108.18</td>\n    </tr>\n    <tr>\n      <th>520</th>\n      <td>Q.REQUESON</td>\n      <td>PROD.FRESCOS</td>\n      <td>QUESOS</td>\n      <td>REQUESON</td>\n      <td>Q.REQUESON</td>\n      <td>NaN</td>\n      <td>43.82</td>\n      <td>43.77</td>\n      <td>42.72</td>\n      <td>43.35</td>\n      <td>...</td>\n      <td>86.33</td>\n      <td>88.96</td>\n      <td>92.77</td>\n      <td>96.12</td>\n      <td>103.90</td>\n      <td>107.14</td>\n      <td>107.92</td>\n      <td>106.99</td>\n      <td>108.83</td>\n      <td>108.18</td>\n    </tr>\n    <tr>\n      <th>521</th>\n      <td>RESTO QUESOS NATURALES</td>\n      <td>PROD.FRESCOS</td>\n      <td>QUESOS</td>\n      <td>RESTO QUESOS NATURALES</td>\n      <td>NaN</td>\n      <td>NaN</td>\n      <td>194.10</td>\n      <td>188.69</td>\n      <td>190.66</td>\n      <td>182.88</td>\n      <td>...</td>\n      <td>540.28</td>\n      <td>539.22</td>\n      <td>550.49</td>\n      <td>572.90</td>\n      <td>554.15</td>\n      <td>581.27</td>\n      <td>583.61</td>\n      <td>538.48</td>\n      <td>533.98</td>\n      <td>529.13</td>\n    </tr>\n    <tr>\n      <th>522</th>\n      <td>RQN.AL CORTE</td>\n      <td>PROD.FRESCOS</td>\n      <td>QUESOS</td>\n      <td>RESTO QUESOS NATURALES</td>\n      <td>RQN.AL CORTE</td>\n      <td>NaN</td>\n      <td>41.36</td>\n      <td>38.28</td>\n      <td>39.70</td>\n      <td>29.62</td>\n      <td>...</td>\n      <td>118.95</td>\n      <td>125.21</td>\n      <td>128.27</td>\n      <td>128.49</td>\n      <td>127.63</td>\n      <td>166.14</td>\n      <td>168.31</td>\n      <td>143.74</td>\n      <td>135.50</td>\n      <td>126.87</td>\n    </tr>\n    <tr>\n      <th>523</th>\n      <td>RQN.EMPAQUETADO</td>\n      <td>PROD.FRESCOS</td>\n      <td>QUESOS</td>\n      <td>RESTO QUESOS NATURALES</td>\n      <td>RQN.EMPAQUETADO</td>\n      <td>NaN</td>\n      <td>152.73</td>\n      <td>150.41</td>\n      <td>150.97</td>\n      <td>153.27</td>\n      <td>...</td>\n      <td>421.34</td>\n      <td>414.01</td>\n      <td>422.22</td>\n      <td>444.41</td>\n      <td>426.52</td>\n      <td>415.13</td>\n      <td>415.29</td>\n      <td>394.74</td>\n      <td>398.48</td>\n      <td>402.26</td>\n    </tr>\n  </tbody>\n</table>\n<p>524 rows × 166 columns</p>\n</div>"
     },
     "execution_count": 101,
     "metadata": {},
     "output_type": "execute_result"
    }
   ],
   "source": [
    "totalizer"
   ],
   "metadata": {
    "collapsed": false,
    "pycharm": {
     "name": "#%%\n"
    }
   }
  },
  {
   "cell_type": "code",
   "execution_count": 102,
   "outputs": [
    {
     "name": "stderr",
     "output_type": "stream",
     "text": [
      "C:\\Users\\alfre\\anaconda3\\lib\\site-packages\\pandas\\core\\frame.py:4906: SettingWithCopyWarning: \n",
      "A value is trying to be set on a copy of a slice from a DataFrame\n",
      "\n",
      "See the caveats in the documentation: https://pandas.pydata.org/pandas-docs/stable/user_guide/indexing.html#returning-a-view-versus-a-copy\n",
      "  return super().drop(\n"
     ]
    },
    {
     "data": {
      "text/plain": "                       CATEGORIA  SEMANA 40-16  SEMANA 41-16  SEMANA 42-16  \\\n0                         ACEITE       2302.93       2191.72       2228.66   \n1                ADITIVOS COCINA        485.41        482.40        502.81   \n2           ALIMENTOS INFANTILES        212.06        203.38        205.73   \n3             ALIMENTOS MASCOTAS        830.63        813.61        821.61   \n4                     APERITIVOS        963.35        995.74        954.97   \n..                           ...           ...           ...           ...   \n90                 QUESO RALLADO        512.76        521.15        516.15   \n91             QUESO TRADICIONAL       1354.67       1329.53       1315.54   \n92  QUESOS BLANCOS PASTEURIZADOS        123.40        127.95        124.45   \n93                      REQUESON         43.82         43.77         42.72   \n94        RESTO QUESOS NATURALES        194.10        188.69        190.66   \n\n    SEMANA 43-16  SEMANA 44-16  SEMANA 45-16  SEMANA 46-16  SEMANA 47-16  \\\n0        2289.00       2113.57       2082.77       3299.20       4661.33   \n1         541.91        477.30        484.85        470.82        502.79   \n2         210.70        206.82        205.25        200.80        474.18   \n3         862.66        831.69        838.18        816.91        840.85   \n4        1025.04       1054.59        957.36        960.83        941.18   \n..           ...           ...           ...           ...           ...   \n90        532.17        530.66        510.80        515.06        513.99   \n91       1361.87       1325.43       1296.90       1303.09       1355.25   \n92        129.30        130.03        131.01        126.46        128.73   \n93         43.35         41.88         43.34         44.06         42.08   \n94        182.88        191.04        175.46        171.80        177.48   \n\n    SEMANA 48-16  ...  SEMANA 34-19  SEMANA 35-19  SEMANA 36-19  SEMANA 37-19  \\\n0        3011.81  ...       3312.98       3651.12       3670.37       3336.79   \n1         532.50  ...       1209.77       1238.96       1244.36       1201.41   \n2         223.55  ...        626.75        657.99        643.48        608.08   \n3         891.85  ...       2225.05       2370.37       2307.62       2220.56   \n4        1042.06  ...       3411.28       3184.00       2923.88       2837.83   \n..           ...  ...           ...           ...           ...           ...   \n90        541.41  ...       1128.90       1208.63       1203.53       1230.48   \n91       1467.09  ...       3332.93       3474.00       3389.19       3432.57   \n92        142.93  ...        336.68        356.49        356.97        367.29   \n93         44.73  ...         86.33         88.96         92.77         96.12   \n94        186.67  ...        540.28        539.22        550.49        572.90   \n\n    SEMANA 38-19  SEMANA 39-19  SEMANA 40-19  SEMANA 41-19  SEMANA 42-19  \\\n0        3333.10       3523.74       3796.80       3552.76       3555.23   \n1        1191.29       1200.97       1246.30       1153.85       1202.42   \n2         591.39        594.19        609.87        551.79        571.91   \n3        2191.05       2304.43       2323.28       2203.85       2273.26   \n4        2593.33       2658.47       2593.38       2505.42       2627.44   \n..           ...           ...           ...           ...           ...   \n90       1186.34       1181.59       1212.37       1146.88       1225.34   \n91       3338.17       3529.90       3490.52       3317.33       3428.89   \n92        360.64        372.39        384.77        363.16        368.45   \n93        103.90        107.14        107.92        106.99        108.83   \n94        554.15        581.27        583.61        538.48        533.98   \n\n    SEMANA 43-19  \n0        3515.62  \n1        1259.35  \n2         559.27  \n3        2326.33  \n4        2634.95  \n..           ...  \n90       1235.59  \n91       3441.78  \n92        359.12  \n93        108.18  \n94        529.13  \n\n[95 rows x 161 columns]",
      "text/html": "<div>\n<style scoped>\n    .dataframe tbody tr th:only-of-type {\n        vertical-align: middle;\n    }\n\n    .dataframe tbody tr th {\n        vertical-align: top;\n    }\n\n    .dataframe thead th {\n        text-align: right;\n    }\n</style>\n<table border=\"1\" class=\"dataframe\">\n  <thead>\n    <tr style=\"text-align: right;\">\n      <th></th>\n      <th>CATEGORIA</th>\n      <th>SEMANA 40-16</th>\n      <th>SEMANA 41-16</th>\n      <th>SEMANA 42-16</th>\n      <th>SEMANA 43-16</th>\n      <th>SEMANA 44-16</th>\n      <th>SEMANA 45-16</th>\n      <th>SEMANA 46-16</th>\n      <th>SEMANA 47-16</th>\n      <th>SEMANA 48-16</th>\n      <th>...</th>\n      <th>SEMANA 34-19</th>\n      <th>SEMANA 35-19</th>\n      <th>SEMANA 36-19</th>\n      <th>SEMANA 37-19</th>\n      <th>SEMANA 38-19</th>\n      <th>SEMANA 39-19</th>\n      <th>SEMANA 40-19</th>\n      <th>SEMANA 41-19</th>\n      <th>SEMANA 42-19</th>\n      <th>SEMANA 43-19</th>\n    </tr>\n  </thead>\n  <tbody>\n    <tr>\n      <th>0</th>\n      <td>ACEITE</td>\n      <td>2302.93</td>\n      <td>2191.72</td>\n      <td>2228.66</td>\n      <td>2289.00</td>\n      <td>2113.57</td>\n      <td>2082.77</td>\n      <td>3299.20</td>\n      <td>4661.33</td>\n      <td>3011.81</td>\n      <td>...</td>\n      <td>3312.98</td>\n      <td>3651.12</td>\n      <td>3670.37</td>\n      <td>3336.79</td>\n      <td>3333.10</td>\n      <td>3523.74</td>\n      <td>3796.80</td>\n      <td>3552.76</td>\n      <td>3555.23</td>\n      <td>3515.62</td>\n    </tr>\n    <tr>\n      <th>1</th>\n      <td>ADITIVOS COCINA</td>\n      <td>485.41</td>\n      <td>482.40</td>\n      <td>502.81</td>\n      <td>541.91</td>\n      <td>477.30</td>\n      <td>484.85</td>\n      <td>470.82</td>\n      <td>502.79</td>\n      <td>532.50</td>\n      <td>...</td>\n      <td>1209.77</td>\n      <td>1238.96</td>\n      <td>1244.36</td>\n      <td>1201.41</td>\n      <td>1191.29</td>\n      <td>1200.97</td>\n      <td>1246.30</td>\n      <td>1153.85</td>\n      <td>1202.42</td>\n      <td>1259.35</td>\n    </tr>\n    <tr>\n      <th>2</th>\n      <td>ALIMENTOS INFANTILES</td>\n      <td>212.06</td>\n      <td>203.38</td>\n      <td>205.73</td>\n      <td>210.70</td>\n      <td>206.82</td>\n      <td>205.25</td>\n      <td>200.80</td>\n      <td>474.18</td>\n      <td>223.55</td>\n      <td>...</td>\n      <td>626.75</td>\n      <td>657.99</td>\n      <td>643.48</td>\n      <td>608.08</td>\n      <td>591.39</td>\n      <td>594.19</td>\n      <td>609.87</td>\n      <td>551.79</td>\n      <td>571.91</td>\n      <td>559.27</td>\n    </tr>\n    <tr>\n      <th>3</th>\n      <td>ALIMENTOS MASCOTAS</td>\n      <td>830.63</td>\n      <td>813.61</td>\n      <td>821.61</td>\n      <td>862.66</td>\n      <td>831.69</td>\n      <td>838.18</td>\n      <td>816.91</td>\n      <td>840.85</td>\n      <td>891.85</td>\n      <td>...</td>\n      <td>2225.05</td>\n      <td>2370.37</td>\n      <td>2307.62</td>\n      <td>2220.56</td>\n      <td>2191.05</td>\n      <td>2304.43</td>\n      <td>2323.28</td>\n      <td>2203.85</td>\n      <td>2273.26</td>\n      <td>2326.33</td>\n    </tr>\n    <tr>\n      <th>4</th>\n      <td>APERITIVOS</td>\n      <td>963.35</td>\n      <td>995.74</td>\n      <td>954.97</td>\n      <td>1025.04</td>\n      <td>1054.59</td>\n      <td>957.36</td>\n      <td>960.83</td>\n      <td>941.18</td>\n      <td>1042.06</td>\n      <td>...</td>\n      <td>3411.28</td>\n      <td>3184.00</td>\n      <td>2923.88</td>\n      <td>2837.83</td>\n      <td>2593.33</td>\n      <td>2658.47</td>\n      <td>2593.38</td>\n      <td>2505.42</td>\n      <td>2627.44</td>\n      <td>2634.95</td>\n    </tr>\n    <tr>\n      <th>...</th>\n      <td>...</td>\n      <td>...</td>\n      <td>...</td>\n      <td>...</td>\n      <td>...</td>\n      <td>...</td>\n      <td>...</td>\n      <td>...</td>\n      <td>...</td>\n      <td>...</td>\n      <td>...</td>\n      <td>...</td>\n      <td>...</td>\n      <td>...</td>\n      <td>...</td>\n      <td>...</td>\n      <td>...</td>\n      <td>...</td>\n      <td>...</td>\n      <td>...</td>\n      <td>...</td>\n    </tr>\n    <tr>\n      <th>90</th>\n      <td>QUESO RALLADO</td>\n      <td>512.76</td>\n      <td>521.15</td>\n      <td>516.15</td>\n      <td>532.17</td>\n      <td>530.66</td>\n      <td>510.80</td>\n      <td>515.06</td>\n      <td>513.99</td>\n      <td>541.41</td>\n      <td>...</td>\n      <td>1128.90</td>\n      <td>1208.63</td>\n      <td>1203.53</td>\n      <td>1230.48</td>\n      <td>1186.34</td>\n      <td>1181.59</td>\n      <td>1212.37</td>\n      <td>1146.88</td>\n      <td>1225.34</td>\n      <td>1235.59</td>\n    </tr>\n    <tr>\n      <th>91</th>\n      <td>QUESO TRADICIONAL</td>\n      <td>1354.67</td>\n      <td>1329.53</td>\n      <td>1315.54</td>\n      <td>1361.87</td>\n      <td>1325.43</td>\n      <td>1296.90</td>\n      <td>1303.09</td>\n      <td>1355.25</td>\n      <td>1467.09</td>\n      <td>...</td>\n      <td>3332.93</td>\n      <td>3474.00</td>\n      <td>3389.19</td>\n      <td>3432.57</td>\n      <td>3338.17</td>\n      <td>3529.90</td>\n      <td>3490.52</td>\n      <td>3317.33</td>\n      <td>3428.89</td>\n      <td>3441.78</td>\n    </tr>\n    <tr>\n      <th>92</th>\n      <td>QUESOS BLANCOS PASTEURIZADOS</td>\n      <td>123.40</td>\n      <td>127.95</td>\n      <td>124.45</td>\n      <td>129.30</td>\n      <td>130.03</td>\n      <td>131.01</td>\n      <td>126.46</td>\n      <td>128.73</td>\n      <td>142.93</td>\n      <td>...</td>\n      <td>336.68</td>\n      <td>356.49</td>\n      <td>356.97</td>\n      <td>367.29</td>\n      <td>360.64</td>\n      <td>372.39</td>\n      <td>384.77</td>\n      <td>363.16</td>\n      <td>368.45</td>\n      <td>359.12</td>\n    </tr>\n    <tr>\n      <th>93</th>\n      <td>REQUESON</td>\n      <td>43.82</td>\n      <td>43.77</td>\n      <td>42.72</td>\n      <td>43.35</td>\n      <td>41.88</td>\n      <td>43.34</td>\n      <td>44.06</td>\n      <td>42.08</td>\n      <td>44.73</td>\n      <td>...</td>\n      <td>86.33</td>\n      <td>88.96</td>\n      <td>92.77</td>\n      <td>96.12</td>\n      <td>103.90</td>\n      <td>107.14</td>\n      <td>107.92</td>\n      <td>106.99</td>\n      <td>108.83</td>\n      <td>108.18</td>\n    </tr>\n    <tr>\n      <th>94</th>\n      <td>RESTO QUESOS NATURALES</td>\n      <td>194.10</td>\n      <td>188.69</td>\n      <td>190.66</td>\n      <td>182.88</td>\n      <td>191.04</td>\n      <td>175.46</td>\n      <td>171.80</td>\n      <td>177.48</td>\n      <td>186.67</td>\n      <td>...</td>\n      <td>540.28</td>\n      <td>539.22</td>\n      <td>550.49</td>\n      <td>572.90</td>\n      <td>554.15</td>\n      <td>581.27</td>\n      <td>583.61</td>\n      <td>538.48</td>\n      <td>533.98</td>\n      <td>529.13</td>\n    </tr>\n  </tbody>\n</table>\n<p>95 rows × 161 columns</p>\n</div>"
     },
     "execution_count": 102,
     "metadata": {},
     "output_type": "execute_result"
    }
   ],
   "source": [
    "categories = totalizer[totalizer[\"CATEGORIA\"].notnull() & totalizer[\"FAMILIA\"].isnull()]\n",
    "categories.reset_index(drop=True, inplace=True)\n",
    "categories.drop(columns=['PRODUCTO', 'SECTOR', 'SECCION', 'FAMILIA', 'SEGMENTO BIO'], inplace=True)\n",
    "categories"
   ],
   "metadata": {
    "collapsed": false,
    "pycharm": {
     "name": "#%%\n"
    }
   }
  },
  {
   "cell_type": "code",
   "execution_count": 103,
   "outputs": [],
   "source": [
    "categories.set_index(\"CATEGORIA\", inplace=True)"
   ],
   "metadata": {
    "collapsed": false,
    "pycharm": {
     "name": "#%%\n"
    }
   }
  },
  {
   "cell_type": "code",
   "execution_count": 104,
   "outputs": [
    {
     "data": {
      "text/plain": "                              SEMANA 40-16  SEMANA 41-16  SEMANA 42-16  \\\nCATEGORIA                                                                \nACEITE                             2302.93       2191.72       2228.66   \nADITIVOS COCINA                     485.41        482.40        502.81   \nALIMENTOS INFANTILES                212.06        203.38        205.73   \nALIMENTOS MASCOTAS                  830.63        813.61        821.61   \nAPERITIVOS                          963.35        995.74        954.97   \n...                                    ...           ...           ...   \nQUESO RALLADO                       512.76        521.15        516.15   \nQUESO TRADICIONAL                  1354.67       1329.53       1315.54   \nQUESOS BLANCOS PASTEURIZADOS        123.40        127.95        124.45   \nREQUESON                             43.82         43.77         42.72   \nRESTO QUESOS NATURALES              194.10        188.69        190.66   \n\n                              SEMANA 43-16  SEMANA 44-16  SEMANA 45-16  \\\nCATEGORIA                                                                \nACEITE                             2289.00       2113.57       2082.77   \nADITIVOS COCINA                     541.91        477.30        484.85   \nALIMENTOS INFANTILES                210.70        206.82        205.25   \nALIMENTOS MASCOTAS                  862.66        831.69        838.18   \nAPERITIVOS                         1025.04       1054.59        957.36   \n...                                    ...           ...           ...   \nQUESO RALLADO                       532.17        530.66        510.80   \nQUESO TRADICIONAL                  1361.87       1325.43       1296.90   \nQUESOS BLANCOS PASTEURIZADOS        129.30        130.03        131.01   \nREQUESON                             43.35         41.88         43.34   \nRESTO QUESOS NATURALES              182.88        191.04        175.46   \n\n                              SEMANA 46-16  SEMANA 47-16  SEMANA 48-16  \\\nCATEGORIA                                                                \nACEITE                             3299.20       4661.33       3011.81   \nADITIVOS COCINA                     470.82        502.79        532.50   \nALIMENTOS INFANTILES                200.80        474.18        223.55   \nALIMENTOS MASCOTAS                  816.91        840.85        891.85   \nAPERITIVOS                          960.83        941.18       1042.06   \n...                                    ...           ...           ...   \nQUESO RALLADO                       515.06        513.99        541.41   \nQUESO TRADICIONAL                  1303.09       1355.25       1467.09   \nQUESOS BLANCOS PASTEURIZADOS        126.46        128.73        142.93   \nREQUESON                             44.06         42.08         44.73   \nRESTO QUESOS NATURALES              171.80        177.48        186.67   \n\n                              SEMANA 49-16  ...  SEMANA 34-19  SEMANA 35-19  \\\nCATEGORIA                                   ...                               \nACEITE                             2213.79  ...       3312.98       3651.12   \nADITIVOS COCINA                     512.52  ...       1209.77       1238.96   \nALIMENTOS INFANTILES                207.60  ...        626.75        657.99   \nALIMENTOS MASCOTAS                  853.03  ...       2225.05       2370.37   \nAPERITIVOS                         1101.77  ...       3411.28       3184.00   \n...                                    ...  ...           ...           ...   \nQUESO RALLADO                       549.87  ...       1128.90       1208.63   \nQUESO TRADICIONAL                  1376.88  ...       3332.93       3474.00   \nQUESOS BLANCOS PASTEURIZADOS        142.59  ...        336.68        356.49   \nREQUESON                             40.81  ...         86.33         88.96   \nRESTO QUESOS NATURALES              199.09  ...        540.28        539.22   \n\n                              SEMANA 36-19  SEMANA 37-19  SEMANA 38-19  \\\nCATEGORIA                                                                \nACEITE                             3670.37       3336.79       3333.10   \nADITIVOS COCINA                    1244.36       1201.41       1191.29   \nALIMENTOS INFANTILES                643.48        608.08        591.39   \nALIMENTOS MASCOTAS                 2307.62       2220.56       2191.05   \nAPERITIVOS                         2923.88       2837.83       2593.33   \n...                                    ...           ...           ...   \nQUESO RALLADO                      1203.53       1230.48       1186.34   \nQUESO TRADICIONAL                  3389.19       3432.57       3338.17   \nQUESOS BLANCOS PASTEURIZADOS        356.97        367.29        360.64   \nREQUESON                             92.77         96.12        103.90   \nRESTO QUESOS NATURALES              550.49        572.90        554.15   \n\n                              SEMANA 39-19  SEMANA 40-19  SEMANA 41-19  \\\nCATEGORIA                                                                \nACEITE                             3523.74       3796.80       3552.76   \nADITIVOS COCINA                    1200.97       1246.30       1153.85   \nALIMENTOS INFANTILES                594.19        609.87        551.79   \nALIMENTOS MASCOTAS                 2304.43       2323.28       2203.85   \nAPERITIVOS                         2658.47       2593.38       2505.42   \n...                                    ...           ...           ...   \nQUESO RALLADO                      1181.59       1212.37       1146.88   \nQUESO TRADICIONAL                  3529.90       3490.52       3317.33   \nQUESOS BLANCOS PASTEURIZADOS        372.39        384.77        363.16   \nREQUESON                            107.14        107.92        106.99   \nRESTO QUESOS NATURALES              581.27        583.61        538.48   \n\n                              SEMANA 42-19  SEMANA 43-19  \nCATEGORIA                                                 \nACEITE                             3555.23       3515.62  \nADITIVOS COCINA                    1202.42       1259.35  \nALIMENTOS INFANTILES                571.91        559.27  \nALIMENTOS MASCOTAS                 2273.26       2326.33  \nAPERITIVOS                         2627.44       2634.95  \n...                                    ...           ...  \nQUESO RALLADO                      1225.34       1235.59  \nQUESO TRADICIONAL                  3428.89       3441.78  \nQUESOS BLANCOS PASTEURIZADOS        368.45        359.12  \nREQUESON                            108.83        108.18  \nRESTO QUESOS NATURALES              533.98        529.13  \n\n[95 rows x 160 columns]",
      "text/html": "<div>\n<style scoped>\n    .dataframe tbody tr th:only-of-type {\n        vertical-align: middle;\n    }\n\n    .dataframe tbody tr th {\n        vertical-align: top;\n    }\n\n    .dataframe thead th {\n        text-align: right;\n    }\n</style>\n<table border=\"1\" class=\"dataframe\">\n  <thead>\n    <tr style=\"text-align: right;\">\n      <th></th>\n      <th>SEMANA 40-16</th>\n      <th>SEMANA 41-16</th>\n      <th>SEMANA 42-16</th>\n      <th>SEMANA 43-16</th>\n      <th>SEMANA 44-16</th>\n      <th>SEMANA 45-16</th>\n      <th>SEMANA 46-16</th>\n      <th>SEMANA 47-16</th>\n      <th>SEMANA 48-16</th>\n      <th>SEMANA 49-16</th>\n      <th>...</th>\n      <th>SEMANA 34-19</th>\n      <th>SEMANA 35-19</th>\n      <th>SEMANA 36-19</th>\n      <th>SEMANA 37-19</th>\n      <th>SEMANA 38-19</th>\n      <th>SEMANA 39-19</th>\n      <th>SEMANA 40-19</th>\n      <th>SEMANA 41-19</th>\n      <th>SEMANA 42-19</th>\n      <th>SEMANA 43-19</th>\n    </tr>\n    <tr>\n      <th>CATEGORIA</th>\n      <th></th>\n      <th></th>\n      <th></th>\n      <th></th>\n      <th></th>\n      <th></th>\n      <th></th>\n      <th></th>\n      <th></th>\n      <th></th>\n      <th></th>\n      <th></th>\n      <th></th>\n      <th></th>\n      <th></th>\n      <th></th>\n      <th></th>\n      <th></th>\n      <th></th>\n      <th></th>\n      <th></th>\n    </tr>\n  </thead>\n  <tbody>\n    <tr>\n      <th>ACEITE</th>\n      <td>2302.93</td>\n      <td>2191.72</td>\n      <td>2228.66</td>\n      <td>2289.00</td>\n      <td>2113.57</td>\n      <td>2082.77</td>\n      <td>3299.20</td>\n      <td>4661.33</td>\n      <td>3011.81</td>\n      <td>2213.79</td>\n      <td>...</td>\n      <td>3312.98</td>\n      <td>3651.12</td>\n      <td>3670.37</td>\n      <td>3336.79</td>\n      <td>3333.10</td>\n      <td>3523.74</td>\n      <td>3796.80</td>\n      <td>3552.76</td>\n      <td>3555.23</td>\n      <td>3515.62</td>\n    </tr>\n    <tr>\n      <th>ADITIVOS COCINA</th>\n      <td>485.41</td>\n      <td>482.40</td>\n      <td>502.81</td>\n      <td>541.91</td>\n      <td>477.30</td>\n      <td>484.85</td>\n      <td>470.82</td>\n      <td>502.79</td>\n      <td>532.50</td>\n      <td>512.52</td>\n      <td>...</td>\n      <td>1209.77</td>\n      <td>1238.96</td>\n      <td>1244.36</td>\n      <td>1201.41</td>\n      <td>1191.29</td>\n      <td>1200.97</td>\n      <td>1246.30</td>\n      <td>1153.85</td>\n      <td>1202.42</td>\n      <td>1259.35</td>\n    </tr>\n    <tr>\n      <th>ALIMENTOS INFANTILES</th>\n      <td>212.06</td>\n      <td>203.38</td>\n      <td>205.73</td>\n      <td>210.70</td>\n      <td>206.82</td>\n      <td>205.25</td>\n      <td>200.80</td>\n      <td>474.18</td>\n      <td>223.55</td>\n      <td>207.60</td>\n      <td>...</td>\n      <td>626.75</td>\n      <td>657.99</td>\n      <td>643.48</td>\n      <td>608.08</td>\n      <td>591.39</td>\n      <td>594.19</td>\n      <td>609.87</td>\n      <td>551.79</td>\n      <td>571.91</td>\n      <td>559.27</td>\n    </tr>\n    <tr>\n      <th>ALIMENTOS MASCOTAS</th>\n      <td>830.63</td>\n      <td>813.61</td>\n      <td>821.61</td>\n      <td>862.66</td>\n      <td>831.69</td>\n      <td>838.18</td>\n      <td>816.91</td>\n      <td>840.85</td>\n      <td>891.85</td>\n      <td>853.03</td>\n      <td>...</td>\n      <td>2225.05</td>\n      <td>2370.37</td>\n      <td>2307.62</td>\n      <td>2220.56</td>\n      <td>2191.05</td>\n      <td>2304.43</td>\n      <td>2323.28</td>\n      <td>2203.85</td>\n      <td>2273.26</td>\n      <td>2326.33</td>\n    </tr>\n    <tr>\n      <th>APERITIVOS</th>\n      <td>963.35</td>\n      <td>995.74</td>\n      <td>954.97</td>\n      <td>1025.04</td>\n      <td>1054.59</td>\n      <td>957.36</td>\n      <td>960.83</td>\n      <td>941.18</td>\n      <td>1042.06</td>\n      <td>1101.77</td>\n      <td>...</td>\n      <td>3411.28</td>\n      <td>3184.00</td>\n      <td>2923.88</td>\n      <td>2837.83</td>\n      <td>2593.33</td>\n      <td>2658.47</td>\n      <td>2593.38</td>\n      <td>2505.42</td>\n      <td>2627.44</td>\n      <td>2634.95</td>\n    </tr>\n    <tr>\n      <th>...</th>\n      <td>...</td>\n      <td>...</td>\n      <td>...</td>\n      <td>...</td>\n      <td>...</td>\n      <td>...</td>\n      <td>...</td>\n      <td>...</td>\n      <td>...</td>\n      <td>...</td>\n      <td>...</td>\n      <td>...</td>\n      <td>...</td>\n      <td>...</td>\n      <td>...</td>\n      <td>...</td>\n      <td>...</td>\n      <td>...</td>\n      <td>...</td>\n      <td>...</td>\n      <td>...</td>\n    </tr>\n    <tr>\n      <th>QUESO RALLADO</th>\n      <td>512.76</td>\n      <td>521.15</td>\n      <td>516.15</td>\n      <td>532.17</td>\n      <td>530.66</td>\n      <td>510.80</td>\n      <td>515.06</td>\n      <td>513.99</td>\n      <td>541.41</td>\n      <td>549.87</td>\n      <td>...</td>\n      <td>1128.90</td>\n      <td>1208.63</td>\n      <td>1203.53</td>\n      <td>1230.48</td>\n      <td>1186.34</td>\n      <td>1181.59</td>\n      <td>1212.37</td>\n      <td>1146.88</td>\n      <td>1225.34</td>\n      <td>1235.59</td>\n    </tr>\n    <tr>\n      <th>QUESO TRADICIONAL</th>\n      <td>1354.67</td>\n      <td>1329.53</td>\n      <td>1315.54</td>\n      <td>1361.87</td>\n      <td>1325.43</td>\n      <td>1296.90</td>\n      <td>1303.09</td>\n      <td>1355.25</td>\n      <td>1467.09</td>\n      <td>1376.88</td>\n      <td>...</td>\n      <td>3332.93</td>\n      <td>3474.00</td>\n      <td>3389.19</td>\n      <td>3432.57</td>\n      <td>3338.17</td>\n      <td>3529.90</td>\n      <td>3490.52</td>\n      <td>3317.33</td>\n      <td>3428.89</td>\n      <td>3441.78</td>\n    </tr>\n    <tr>\n      <th>QUESOS BLANCOS PASTEURIZADOS</th>\n      <td>123.40</td>\n      <td>127.95</td>\n      <td>124.45</td>\n      <td>129.30</td>\n      <td>130.03</td>\n      <td>131.01</td>\n      <td>126.46</td>\n      <td>128.73</td>\n      <td>142.93</td>\n      <td>142.59</td>\n      <td>...</td>\n      <td>336.68</td>\n      <td>356.49</td>\n      <td>356.97</td>\n      <td>367.29</td>\n      <td>360.64</td>\n      <td>372.39</td>\n      <td>384.77</td>\n      <td>363.16</td>\n      <td>368.45</td>\n      <td>359.12</td>\n    </tr>\n    <tr>\n      <th>REQUESON</th>\n      <td>43.82</td>\n      <td>43.77</td>\n      <td>42.72</td>\n      <td>43.35</td>\n      <td>41.88</td>\n      <td>43.34</td>\n      <td>44.06</td>\n      <td>42.08</td>\n      <td>44.73</td>\n      <td>40.81</td>\n      <td>...</td>\n      <td>86.33</td>\n      <td>88.96</td>\n      <td>92.77</td>\n      <td>96.12</td>\n      <td>103.90</td>\n      <td>107.14</td>\n      <td>107.92</td>\n      <td>106.99</td>\n      <td>108.83</td>\n      <td>108.18</td>\n    </tr>\n    <tr>\n      <th>RESTO QUESOS NATURALES</th>\n      <td>194.10</td>\n      <td>188.69</td>\n      <td>190.66</td>\n      <td>182.88</td>\n      <td>191.04</td>\n      <td>175.46</td>\n      <td>171.80</td>\n      <td>177.48</td>\n      <td>186.67</td>\n      <td>199.09</td>\n      <td>...</td>\n      <td>540.28</td>\n      <td>539.22</td>\n      <td>550.49</td>\n      <td>572.90</td>\n      <td>554.15</td>\n      <td>581.27</td>\n      <td>583.61</td>\n      <td>538.48</td>\n      <td>533.98</td>\n      <td>529.13</td>\n    </tr>\n  </tbody>\n</table>\n<p>95 rows × 160 columns</p>\n</div>"
     },
     "execution_count": 104,
     "metadata": {},
     "output_type": "execute_result"
    }
   ],
   "source": [
    "categories"
   ],
   "metadata": {
    "collapsed": false,
    "pycharm": {
     "name": "#%%\n"
    }
   }
  },
  {
   "cell_type": "code",
   "execution_count": 105,
   "outputs": [],
   "source": [
    "categoria_t = categories.transpose()"
   ],
   "metadata": {
    "collapsed": false,
    "pycharm": {
     "name": "#%%\n"
    }
   }
  },
  {
   "cell_type": "code",
   "execution_count": 106,
   "outputs": [
    {
     "name": "stdout",
     "output_type": "stream",
     "text": [
      "2020-10-05 00:00:00\n"
     ]
    }
   ],
   "source": [
    "\n",
    "d = \"2020-W40\"\n",
    "r = datetime.datetime.strptime(d + '-1', \"%Y-W%W-%w\")\n",
    "print(r)"
   ],
   "metadata": {
    "collapsed": false,
    "pycharm": {
     "name": "#%%\n"
    }
   }
  },
  {
   "cell_type": "code",
   "execution_count": 107,
   "outputs": [
    {
     "name": "stdout",
     "output_type": "stream",
     "text": [
      "2020-10-05 00:00:00\n"
     ]
    }
   ],
   "source": [
    "def format_week(week: str) -> str:\n",
    "    week_number = week.removeprefix(\"SEMANA \").split(\"-\")\n",
    "    return \"20{}-W{}\".format(week_number[1], week_number[0])\n",
    "\n",
    "\n",
    "def reformat_week(week: str) -> datetime:\n",
    "    return datetime.datetime.strptime(format_week(week) + '-1', \"%Y-W%W-%w\")\n",
    "\n",
    "\n",
    "print(reformat_week(\"SEMANA 40-20\"))"
   ],
   "metadata": {
    "collapsed": false,
    "pycharm": {
     "name": "#%%\n"
    }
   }
  },
  {
   "cell_type": "code",
   "execution_count": 108,
   "outputs": [],
   "source": [
    "categoria_t.index = categoria_t.index.map(reformat_week)"
   ],
   "metadata": {
    "collapsed": false,
    "pycharm": {
     "name": "#%%\n"
    }
   }
  },
  {
   "cell_type": "code",
   "execution_count": 109,
   "outputs": [
    {
     "data": {
      "text/plain": "CATEGORIA    ACEITE  ADITIVOS COCINA  ALIMENTOS INFANTILES  \\\n2016-10-03  2302.93           485.41                212.06   \n2016-10-10  2191.72           482.40                203.38   \n2016-10-17  2228.66           502.81                205.73   \n2016-10-24  2289.00           541.91                210.70   \n2016-10-31  2113.57           477.30                206.82   \n\nCATEGORIA   ALIMENTOS MASCOTAS  APERITIVOS   ARROZ  AZUCAR Y EDULCORANTES  \\\n2016-10-03              830.63      963.35  364.12                 304.11   \n2016-10-10              813.61      995.74  357.80                 314.27   \n2016-10-17              821.61      954.97  355.71                 331.11   \n2016-10-24              862.66     1025.04  369.98                 367.59   \n2016-10-31              831.69     1054.59  365.46                 325.75   \n\nCATEGORIA   BOLLERIA INDUSTRIAL   CACAO    CAFES  ...  QUESO AZUL  QUESO BOLA  \\\n2016-10-03              1692.08  520.56  1365.86  ...       66.58      509.37   \n2016-10-10              1725.16  520.39  1318.65  ...       66.67      483.99   \n2016-10-17              1880.66  530.73  1362.94  ...       64.86      481.32   \n2016-10-24              2026.92  534.90  1406.60  ...       67.90      490.24   \n2016-10-31              1793.27  501.73  1391.35  ...       69.08      471.02   \n\nCATEGORIA   QUESO FRESCO  QUESO FUNDIDO  QUESO PASTA BLANDA  QUESO RALLADO  \\\n2016-10-03        513.87         351.20               68.02         512.76   \n2016-10-10        505.10         341.31               69.20         521.15   \n2016-10-17        498.29         346.66               68.27         516.15   \n2016-10-24        502.97         355.83               70.67         532.17   \n2016-10-31        479.10         338.57               70.14         530.66   \n\nCATEGORIA   QUESO TRADICIONAL  QUESOS BLANCOS PASTEURIZADOS  REQUESON  \\\n2016-10-03            1354.67                        123.40     43.82   \n2016-10-10            1329.53                        127.95     43.77   \n2016-10-17            1315.54                        124.45     42.72   \n2016-10-24            1361.87                        129.30     43.35   \n2016-10-31            1325.43                        130.03     41.88   \n\nCATEGORIA   RESTO QUESOS NATURALES  \n2016-10-03                  194.10  \n2016-10-10                  188.69  \n2016-10-17                  190.66  \n2016-10-24                  182.88  \n2016-10-31                  191.04  \n\n[5 rows x 95 columns]",
      "text/html": "<div>\n<style scoped>\n    .dataframe tbody tr th:only-of-type {\n        vertical-align: middle;\n    }\n\n    .dataframe tbody tr th {\n        vertical-align: top;\n    }\n\n    .dataframe thead th {\n        text-align: right;\n    }\n</style>\n<table border=\"1\" class=\"dataframe\">\n  <thead>\n    <tr style=\"text-align: right;\">\n      <th>CATEGORIA</th>\n      <th>ACEITE</th>\n      <th>ADITIVOS COCINA</th>\n      <th>ALIMENTOS INFANTILES</th>\n      <th>ALIMENTOS MASCOTAS</th>\n      <th>APERITIVOS</th>\n      <th>ARROZ</th>\n      <th>AZUCAR Y EDULCORANTES</th>\n      <th>BOLLERIA INDUSTRIAL</th>\n      <th>CACAO</th>\n      <th>CAFES</th>\n      <th>...</th>\n      <th>QUESO AZUL</th>\n      <th>QUESO BOLA</th>\n      <th>QUESO FRESCO</th>\n      <th>QUESO FUNDIDO</th>\n      <th>QUESO PASTA BLANDA</th>\n      <th>QUESO RALLADO</th>\n      <th>QUESO TRADICIONAL</th>\n      <th>QUESOS BLANCOS PASTEURIZADOS</th>\n      <th>REQUESON</th>\n      <th>RESTO QUESOS NATURALES</th>\n    </tr>\n  </thead>\n  <tbody>\n    <tr>\n      <th>2016-10-03</th>\n      <td>2302.93</td>\n      <td>485.41</td>\n      <td>212.06</td>\n      <td>830.63</td>\n      <td>963.35</td>\n      <td>364.12</td>\n      <td>304.11</td>\n      <td>1692.08</td>\n      <td>520.56</td>\n      <td>1365.86</td>\n      <td>...</td>\n      <td>66.58</td>\n      <td>509.37</td>\n      <td>513.87</td>\n      <td>351.20</td>\n      <td>68.02</td>\n      <td>512.76</td>\n      <td>1354.67</td>\n      <td>123.40</td>\n      <td>43.82</td>\n      <td>194.10</td>\n    </tr>\n    <tr>\n      <th>2016-10-10</th>\n      <td>2191.72</td>\n      <td>482.40</td>\n      <td>203.38</td>\n      <td>813.61</td>\n      <td>995.74</td>\n      <td>357.80</td>\n      <td>314.27</td>\n      <td>1725.16</td>\n      <td>520.39</td>\n      <td>1318.65</td>\n      <td>...</td>\n      <td>66.67</td>\n      <td>483.99</td>\n      <td>505.10</td>\n      <td>341.31</td>\n      <td>69.20</td>\n      <td>521.15</td>\n      <td>1329.53</td>\n      <td>127.95</td>\n      <td>43.77</td>\n      <td>188.69</td>\n    </tr>\n    <tr>\n      <th>2016-10-17</th>\n      <td>2228.66</td>\n      <td>502.81</td>\n      <td>205.73</td>\n      <td>821.61</td>\n      <td>954.97</td>\n      <td>355.71</td>\n      <td>331.11</td>\n      <td>1880.66</td>\n      <td>530.73</td>\n      <td>1362.94</td>\n      <td>...</td>\n      <td>64.86</td>\n      <td>481.32</td>\n      <td>498.29</td>\n      <td>346.66</td>\n      <td>68.27</td>\n      <td>516.15</td>\n      <td>1315.54</td>\n      <td>124.45</td>\n      <td>42.72</td>\n      <td>190.66</td>\n    </tr>\n    <tr>\n      <th>2016-10-24</th>\n      <td>2289.00</td>\n      <td>541.91</td>\n      <td>210.70</td>\n      <td>862.66</td>\n      <td>1025.04</td>\n      <td>369.98</td>\n      <td>367.59</td>\n      <td>2026.92</td>\n      <td>534.90</td>\n      <td>1406.60</td>\n      <td>...</td>\n      <td>67.90</td>\n      <td>490.24</td>\n      <td>502.97</td>\n      <td>355.83</td>\n      <td>70.67</td>\n      <td>532.17</td>\n      <td>1361.87</td>\n      <td>129.30</td>\n      <td>43.35</td>\n      <td>182.88</td>\n    </tr>\n    <tr>\n      <th>2016-10-31</th>\n      <td>2113.57</td>\n      <td>477.30</td>\n      <td>206.82</td>\n      <td>831.69</td>\n      <td>1054.59</td>\n      <td>365.46</td>\n      <td>325.75</td>\n      <td>1793.27</td>\n      <td>501.73</td>\n      <td>1391.35</td>\n      <td>...</td>\n      <td>69.08</td>\n      <td>471.02</td>\n      <td>479.10</td>\n      <td>338.57</td>\n      <td>70.14</td>\n      <td>530.66</td>\n      <td>1325.43</td>\n      <td>130.03</td>\n      <td>41.88</td>\n      <td>191.04</td>\n    </tr>\n  </tbody>\n</table>\n<p>5 rows × 95 columns</p>\n</div>"
     },
     "execution_count": 109,
     "metadata": {},
     "output_type": "execute_result"
    }
   ],
   "source": [
    "categoria_t.head()"
   ],
   "metadata": {
    "collapsed": false,
    "pycharm": {
     "name": "#%%\n"
    }
   }
  },
  {
   "cell_type": "code",
   "execution_count": 111,
   "outputs": [],
   "source": [
    "categoria_t[\"COMMUNITY\"] =  \"CATALUNYA\""
   ],
   "metadata": {
    "collapsed": false,
    "pycharm": {
     "name": "#%%\n"
    }
   }
  },
  {
   "cell_type": "code",
   "execution_count": null,
   "outputs": [],
   "source": [],
   "metadata": {
    "collapsed": false,
    "pycharm": {
     "name": "#%%\n"
    }
   }
  },
  {
   "cell_type": "code",
   "execution_count": 112,
   "outputs": [],
   "source": [
    "categoria_t.to_csv(f\"{__INTERIM_FOLDER_PATH__}catalunya.csv\")"
   ],
   "metadata": {
    "collapsed": false,
    "pycharm": {
     "name": "#%%\n"
    }
   }
  },
  {
   "cell_type": "code",
   "execution_count": 110,
   "outputs": [],
   "source": [],
   "metadata": {
    "collapsed": false,
    "pycharm": {
     "name": "#%%\n"
    }
   }
  }
 ],
 "metadata": {
  "kernelspec": {
   "display_name": "Python 3",
   "language": "python",
   "name": "python3"
  },
  "language_info": {
   "codemirror_mode": {
    "name": "ipython",
    "version": 2
   },
   "file_extension": ".py",
   "mimetype": "text/x-python",
   "name": "python",
   "nbconvert_exporter": "python",
   "pygments_lexer": "ipython2",
   "version": "2.7.6"
  }
 },
 "nbformat": 4,
 "nbformat_minor": 0
}